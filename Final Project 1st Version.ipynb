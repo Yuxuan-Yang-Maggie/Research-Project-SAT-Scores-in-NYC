{
 "cells": [
  {
   "cell_type": "markdown",
   "metadata": {},
   "source": [
    "## Project Title: How would student enrollment, borough, and median household income potentially correlate with SAT performance?"
   ]
  },
  {
   "cell_type": "markdown",
   "metadata": {},
   "source": [
    "# Introduction  \n",
    "\n",
    "In this project, I will use the dataset *Average SAT Scores for NYC Public Schools* from **NYC Open Data(source of Data)**\n",
    "to investigate about the mean SAT scores in each NYC public school, and how the means of these scores of each school can be correlated with the school's location and student enrollment. \n",
    "\n",
    "**In general, I would try to solve these main questions in the project:**\n",
    "-How are the locations(borough) of each school correlated with the school's overall performance in SAT Exam?\n",
    "-Is the overall performance on SAT related with school's number of student enrollment?\n",
    "\n",
    "where **Y variable** would be the mean of total SAT score,\n",
    "and the **X variables** would be the location (borough) and student enrollment of each school. \n",
    "\n",
    "Since I will also scrape extra data of median household income of different districts at NYC and combine it with \n",
    "my chosen X variables, we will also address a **subsequent question**: Does median household income correlate with \n",
    "mean SAT score of a school?\n",
    "\n",
    "To have a better understanding of this project, readers need to know the **basic background of our project**:\n",
    " -SAT is a pencil-and-paper test administered by the College Board with the purpose of  measuring a high school student's \n",
    "readiness for college, and provide colleges with one common data point that can be used to compare all applicants.\n",
    "\n",
    "In other words, SAT Score is widely used for college applications in America. \n",
    "\n",
    "## Literature Review \n",
    "\n",
    "Sackett, Kuncel and several other researchers have investigated into the relationship between students' socioeconomic status and their academic performances such as SAT scores. In their article 'The Role of Socioeconomic Status in SAT-Grade Relationships and in College Admissions Decisions', they reached a key finding that students' general academic \n",
    "achievements are highly correlated with their socioeconomic status(2012). \n",
    "\n",
    "Hess also mentioned in her article that richer students tend to achieve high SAT score more easily because they could \n",
    "pay for tuitions of better-funded schools with better academic support and they could also afford to take the \n",
    "SAT Exam several times (2019).\n",
    "\n",
    "What's more, Zumbrun pointed out in his article 'SAT Scores and Income Inequality: How Wealthier Kids Rank Higher'\n",
    "that students from wealthier families could not only take advantages on preparation for SAT, but also be equipped with\n",
    "enough financial budgets to pay for expensive college tuitions (2014). \n",
    "\n",
    "## Research Directions:\n",
    "These authors all focus on the general impact of socioeconomic backgrounds on students' academic performances such as SAT scores and college GPA across America asa whole.\n",
    "\n",
    "Nevertheless **in this paper**, our analysis differ from the above articles in the way that we will focus on correlation between economic status and students' mean SAT score **in New York City specifically**. We will also add insights to the existing literature through joint investigations of student enrollment and median household income and how they could be correlated with students' SAT performances.\n",
    "\n",
    "Since residents in different regions have varying economic conditions, this can be illustrated by different boroughs, which is our X variable; the variation in scale of school indicates potential educational funds and resources of a school, which could also be demonstrated by our X variable, student enrollment. \n",
    "\n",
    "Overall, we will provide different measures of analysis including summary statistics and visualizations such as \n",
    "boxplot, scatterplot, heat maps, simple linear regression and multivariate linear regressions in order to add economic insights to the research question \"How would student enrollment, borough, and median household income potentially correlate with SAT performance\". We will discuss about how the X variables would correlate with mean SAT score. "
   ]
  },
  {
   "cell_type": "code",
   "execution_count": null,
   "metadata": {},
   "outputs": [],
   "source": [
    "# Before we start, we first import some packages we need\n",
    "\n",
    "import geopandas as gpd\n",
    "import matplotlib.pyplot as plt\n",
    "import pandas as pd\n",
    "\n",
    "from shapely.geometry import Point\n",
    "\n",
    "%matplotlib inline"
   ]
  },
  {
   "cell_type": "markdown",
   "metadata": {},
   "source": [
    "# Project One "
   ]
  },
  {
   "cell_type": "markdown",
   "metadata": {},
   "source": [
    "## Creating Data Frame, Data Cleaning, and Column Extraction"
   ]
  },
  {
   "cell_type": "code",
   "execution_count": 66,
   "metadata": {},
   "outputs": [
    {
     "data": {
      "text/html": [
       "<div>\n",
       "<style scoped>\n",
       "    .dataframe tbody tr th:only-of-type {\n",
       "        vertical-align: middle;\n",
       "    }\n",
       "\n",
       "    .dataframe tbody tr th {\n",
       "        vertical-align: top;\n",
       "    }\n",
       "\n",
       "    .dataframe thead th {\n",
       "        text-align: right;\n",
       "    }\n",
       "</style>\n",
       "<table border=\"1\" class=\"dataframe\">\n",
       "  <thead>\n",
       "    <tr style=\"text-align: right;\">\n",
       "      <th></th>\n",
       "      <th>School ID</th>\n",
       "      <th>School Name</th>\n",
       "      <th>Borough</th>\n",
       "      <th>Zip Code</th>\n",
       "      <th>Student Enrollment</th>\n",
       "      <th>Percent Tested</th>\n",
       "      <th>Percent Asian</th>\n",
       "      <th>Average Score (SAT Math)</th>\n",
       "      <th>Average Score (SAT Reading)</th>\n",
       "      <th>Average Score (SAT Writing)</th>\n",
       "    </tr>\n",
       "  </thead>\n",
       "  <tbody>\n",
       "    <tr>\n",
       "      <th>2</th>\n",
       "      <td>01M539</td>\n",
       "      <td>New Explorations into Science, Technology and ...</td>\n",
       "      <td>Manhattan</td>\n",
       "      <td>10002</td>\n",
       "      <td>1735.0</td>\n",
       "      <td>91.00%</td>\n",
       "      <td>38.50%</td>\n",
       "      <td>657.0</td>\n",
       "      <td>601.0</td>\n",
       "      <td>601.0</td>\n",
       "    </tr>\n",
       "    <tr>\n",
       "      <th>3</th>\n",
       "      <td>02M294</td>\n",
       "      <td>Essex Street Academy</td>\n",
       "      <td>Manhattan</td>\n",
       "      <td>10002</td>\n",
       "      <td>358.0</td>\n",
       "      <td>78.90%</td>\n",
       "      <td>5.90%</td>\n",
       "      <td>395.0</td>\n",
       "      <td>411.0</td>\n",
       "      <td>387.0</td>\n",
       "    </tr>\n",
       "    <tr>\n",
       "      <th>4</th>\n",
       "      <td>02M308</td>\n",
       "      <td>Lower Manhattan Arts Academy</td>\n",
       "      <td>Manhattan</td>\n",
       "      <td>10002</td>\n",
       "      <td>383.0</td>\n",
       "      <td>65.10%</td>\n",
       "      <td>8.60%</td>\n",
       "      <td>418.0</td>\n",
       "      <td>428.0</td>\n",
       "      <td>415.0</td>\n",
       "    </tr>\n",
       "    <tr>\n",
       "      <th>5</th>\n",
       "      <td>02M545</td>\n",
       "      <td>High School for Dual Language and Asian Studies</td>\n",
       "      <td>Manhattan</td>\n",
       "      <td>10002</td>\n",
       "      <td>416.0</td>\n",
       "      <td>95.90%</td>\n",
       "      <td>88.90%</td>\n",
       "      <td>613.0</td>\n",
       "      <td>453.0</td>\n",
       "      <td>463.0</td>\n",
       "    </tr>\n",
       "    <tr>\n",
       "      <th>6</th>\n",
       "      <td>01M292</td>\n",
       "      <td>Henry Street School for International Studies</td>\n",
       "      <td>Manhattan</td>\n",
       "      <td>10002</td>\n",
       "      <td>255.0</td>\n",
       "      <td>59.70%</td>\n",
       "      <td>13.20%</td>\n",
       "      <td>410.0</td>\n",
       "      <td>406.0</td>\n",
       "      <td>381.0</td>\n",
       "    </tr>\n",
       "    <tr>\n",
       "      <th>...</th>\n",
       "      <td>...</td>\n",
       "      <td>...</td>\n",
       "      <td>...</td>\n",
       "      <td>...</td>\n",
       "      <td>...</td>\n",
       "      <td>...</td>\n",
       "      <td>...</td>\n",
       "      <td>...</td>\n",
       "      <td>...</td>\n",
       "      <td>...</td>\n",
       "    </tr>\n",
       "    <tr>\n",
       "      <th>430</th>\n",
       "      <td>27Q302</td>\n",
       "      <td>Queens High School for Information, Research, ...</td>\n",
       "      <td>Queens</td>\n",
       "      <td>11691</td>\n",
       "      <td>381.0</td>\n",
       "      <td>44.60%</td>\n",
       "      <td>4.20%</td>\n",
       "      <td>372.0</td>\n",
       "      <td>362.0</td>\n",
       "      <td>352.0</td>\n",
       "    </tr>\n",
       "    <tr>\n",
       "      <th>431</th>\n",
       "      <td>27Q324</td>\n",
       "      <td>Rockaway Park High School for Environmental Su...</td>\n",
       "      <td>Queens</td>\n",
       "      <td>11694</td>\n",
       "      <td>368.0</td>\n",
       "      <td>38.50%</td>\n",
       "      <td>3.50%</td>\n",
       "      <td>357.0</td>\n",
       "      <td>381.0</td>\n",
       "      <td>376.0</td>\n",
       "    </tr>\n",
       "    <tr>\n",
       "      <th>432</th>\n",
       "      <td>27Q262</td>\n",
       "      <td>Channel View School for Research</td>\n",
       "      <td>Queens</td>\n",
       "      <td>11694</td>\n",
       "      <td>683.0</td>\n",
       "      <td>76.60%</td>\n",
       "      <td>6.00%</td>\n",
       "      <td>427.0</td>\n",
       "      <td>430.0</td>\n",
       "      <td>423.0</td>\n",
       "    </tr>\n",
       "    <tr>\n",
       "      <th>433</th>\n",
       "      <td>27Q351</td>\n",
       "      <td>Rockaway Collegiate High School</td>\n",
       "      <td>Queens</td>\n",
       "      <td>11694</td>\n",
       "      <td>397.0</td>\n",
       "      <td>46.50%</td>\n",
       "      <td>5.00%</td>\n",
       "      <td>399.0</td>\n",
       "      <td>403.0</td>\n",
       "      <td>405.0</td>\n",
       "    </tr>\n",
       "    <tr>\n",
       "      <th>434</th>\n",
       "      <td>27Q323</td>\n",
       "      <td>Scholars' Academy</td>\n",
       "      <td>Queens</td>\n",
       "      <td>11694</td>\n",
       "      <td>1302.0</td>\n",
       "      <td>99.20%</td>\n",
       "      <td>21.40%</td>\n",
       "      <td>588.0</td>\n",
       "      <td>560.0</td>\n",
       "      <td>568.0</td>\n",
       "    </tr>\n",
       "  </tbody>\n",
       "</table>\n",
       "<p>374 rows × 10 columns</p>\n",
       "</div>"
      ],
      "text/plain": [
       "    School ID                                        School Name    Borough  \\\n",
       "2      01M539  New Explorations into Science, Technology and ...  Manhattan   \n",
       "3      02M294                               Essex Street Academy  Manhattan   \n",
       "4      02M308                       Lower Manhattan Arts Academy  Manhattan   \n",
       "5      02M545    High School for Dual Language and Asian Studies  Manhattan   \n",
       "6      01M292      Henry Street School for International Studies  Manhattan   \n",
       "..        ...                                                ...        ...   \n",
       "430    27Q302  Queens High School for Information, Research, ...     Queens   \n",
       "431    27Q324  Rockaway Park High School for Environmental Su...     Queens   \n",
       "432    27Q262                   Channel View School for Research     Queens   \n",
       "433    27Q351                    Rockaway Collegiate High School     Queens   \n",
       "434    27Q323                                  Scholars' Academy     Queens   \n",
       "\n",
       "     Zip Code  Student Enrollment Percent Tested Percent Asian  \\\n",
       "2       10002              1735.0         91.00%        38.50%   \n",
       "3       10002               358.0         78.90%         5.90%   \n",
       "4       10002               383.0         65.10%         8.60%   \n",
       "5       10002               416.0         95.90%        88.90%   \n",
       "6       10002               255.0         59.70%        13.20%   \n",
       "..        ...                 ...            ...           ...   \n",
       "430     11691               381.0         44.60%         4.20%   \n",
       "431     11694               368.0         38.50%         3.50%   \n",
       "432     11694               683.0         76.60%         6.00%   \n",
       "433     11694               397.0         46.50%         5.00%   \n",
       "434     11694              1302.0         99.20%        21.40%   \n",
       "\n",
       "     Average Score (SAT Math)  Average Score (SAT Reading)  \\\n",
       "2                       657.0                        601.0   \n",
       "3                       395.0                        411.0   \n",
       "4                       418.0                        428.0   \n",
       "5                       613.0                        453.0   \n",
       "6                       410.0                        406.0   \n",
       "..                        ...                          ...   \n",
       "430                     372.0                        362.0   \n",
       "431                     357.0                        381.0   \n",
       "432                     427.0                        430.0   \n",
       "433                     399.0                        403.0   \n",
       "434                     588.0                        560.0   \n",
       "\n",
       "     Average Score (SAT Writing)  \n",
       "2                          601.0  \n",
       "3                          387.0  \n",
       "4                          415.0  \n",
       "5                          463.0  \n",
       "6                          381.0  \n",
       "..                           ...  \n",
       "430                        352.0  \n",
       "431                        376.0  \n",
       "432                        423.0  \n",
       "433                        405.0  \n",
       "434                        568.0  \n",
       "\n",
       "[374 rows x 10 columns]"
      ]
     },
     "execution_count": 66,
     "metadata": {},
     "output_type": "execute_result"
    }
   ],
   "source": [
    "df_SAT=pd.read_csv(r\"C:\\Users\\10036\\Desktop\\多伦多事宜\\ECO225\\Proejct1\\scores.csv\")\n",
    "df_SAT_cleaned = df_SAT.dropna()\n",
    "df1_SAT = df_SAT_cleaned[['School ID', \n",
    "          'School Name', \n",
    "          'Borough', \n",
    "          'Zip Code',\n",
    "          'Student Enrollment',\n",
    "          'Percent Tested',\n",
    "          'Percent Asian', \n",
    "          'Average Score (SAT Math)', \n",
    "          'Average Score (SAT Reading)', \n",
    "          'Average Score (SAT Writing)']]\n",
    "df1_SAT = df1_SAT.drop_duplicates(subset=['School ID'])\n",
    "df1_SAT"
   ]
  },
  {
   "cell_type": "markdown",
   "metadata": {},
   "source": [
    "**Explanation**:\n",
    "\n",
    "In the cell above, three dataframes were created: df_SAT, df_SAT_cleaned, and df1_SAT, where df_SAT is the original dataset we imported from csv file; df_SAT_cleaned is the cleaned version of df, dropping all observartions with missing values; and df1_SAT chooses the columns we need (which includes the X and Y variables) to form a new, cleaned data frame with no missing values or duplications. \n",
    "\n",
    "From the above process we understand that among all 435 schools, there are 374 with no missing values and can be used\n",
    "in our project analysis."
   ]
  },
  {
   "cell_type": "markdown",
   "metadata": {},
   "source": [
    "## Summary Statistics for X and Y variables"
   ]
  },
  {
   "cell_type": "code",
   "execution_count": 67,
   "metadata": {},
   "outputs": [
    {
     "data": {
      "text/html": [
       "<div>\n",
       "<style scoped>\n",
       "    .dataframe tbody tr th:only-of-type {\n",
       "        vertical-align: middle;\n",
       "    }\n",
       "\n",
       "    .dataframe tbody tr th {\n",
       "        vertical-align: top;\n",
       "    }\n",
       "\n",
       "    .dataframe thead th {\n",
       "        text-align: right;\n",
       "    }\n",
       "</style>\n",
       "<table border=\"1\" class=\"dataframe\">\n",
       "  <thead>\n",
       "    <tr style=\"text-align: right;\">\n",
       "      <th></th>\n",
       "      <th>School ID</th>\n",
       "      <th>School Name</th>\n",
       "      <th>Borough</th>\n",
       "      <th>Zip_Code</th>\n",
       "      <th>Student_Enrollment</th>\n",
       "      <th>Percent_Tested</th>\n",
       "      <th>Percent_Asian</th>\n",
       "      <th>Average_Math_Score</th>\n",
       "      <th>Average_Reading_Score</th>\n",
       "      <th>Average_Writing_Score</th>\n",
       "      <th>Total</th>\n",
       "      <th>Number Tested</th>\n",
       "    </tr>\n",
       "  </thead>\n",
       "  <tbody>\n",
       "    <tr>\n",
       "      <th>2</th>\n",
       "      <td>01M539</td>\n",
       "      <td>New Explorations into Science, Technology and ...</td>\n",
       "      <td>Manhattan</td>\n",
       "      <td>10002</td>\n",
       "      <td>1735.0</td>\n",
       "      <td>0.910</td>\n",
       "      <td>0.385</td>\n",
       "      <td>657.0</td>\n",
       "      <td>601.0</td>\n",
       "      <td>601.0</td>\n",
       "      <td>1859.0</td>\n",
       "      <td>1578.850</td>\n",
       "    </tr>\n",
       "    <tr>\n",
       "      <th>3</th>\n",
       "      <td>02M294</td>\n",
       "      <td>Essex Street Academy</td>\n",
       "      <td>Manhattan</td>\n",
       "      <td>10002</td>\n",
       "      <td>358.0</td>\n",
       "      <td>0.789</td>\n",
       "      <td>0.059</td>\n",
       "      <td>395.0</td>\n",
       "      <td>411.0</td>\n",
       "      <td>387.0</td>\n",
       "      <td>1193.0</td>\n",
       "      <td>282.462</td>\n",
       "    </tr>\n",
       "    <tr>\n",
       "      <th>4</th>\n",
       "      <td>02M308</td>\n",
       "      <td>Lower Manhattan Arts Academy</td>\n",
       "      <td>Manhattan</td>\n",
       "      <td>10002</td>\n",
       "      <td>383.0</td>\n",
       "      <td>0.651</td>\n",
       "      <td>0.086</td>\n",
       "      <td>418.0</td>\n",
       "      <td>428.0</td>\n",
       "      <td>415.0</td>\n",
       "      <td>1261.0</td>\n",
       "      <td>249.333</td>\n",
       "    </tr>\n",
       "    <tr>\n",
       "      <th>5</th>\n",
       "      <td>02M545</td>\n",
       "      <td>High School for Dual Language and Asian Studies</td>\n",
       "      <td>Manhattan</td>\n",
       "      <td>10002</td>\n",
       "      <td>416.0</td>\n",
       "      <td>0.959</td>\n",
       "      <td>0.889</td>\n",
       "      <td>613.0</td>\n",
       "      <td>453.0</td>\n",
       "      <td>463.0</td>\n",
       "      <td>1529.0</td>\n",
       "      <td>398.944</td>\n",
       "    </tr>\n",
       "    <tr>\n",
       "      <th>6</th>\n",
       "      <td>01M292</td>\n",
       "      <td>Henry Street School for International Studies</td>\n",
       "      <td>Manhattan</td>\n",
       "      <td>10002</td>\n",
       "      <td>255.0</td>\n",
       "      <td>0.597</td>\n",
       "      <td>0.132</td>\n",
       "      <td>410.0</td>\n",
       "      <td>406.0</td>\n",
       "      <td>381.0</td>\n",
       "      <td>1197.0</td>\n",
       "      <td>152.235</td>\n",
       "    </tr>\n",
       "  </tbody>\n",
       "</table>\n",
       "</div>"
      ],
      "text/plain": [
       "  School ID                                        School Name    Borough  \\\n",
       "2    01M539  New Explorations into Science, Technology and ...  Manhattan   \n",
       "3    02M294                               Essex Street Academy  Manhattan   \n",
       "4    02M308                       Lower Manhattan Arts Academy  Manhattan   \n",
       "5    02M545    High School for Dual Language and Asian Studies  Manhattan   \n",
       "6    01M292      Henry Street School for International Studies  Manhattan   \n",
       "\n",
       "   Zip_Code  Student_Enrollment  Percent_Tested  Percent_Asian  \\\n",
       "2     10002              1735.0           0.910          0.385   \n",
       "3     10002               358.0           0.789          0.059   \n",
       "4     10002               383.0           0.651          0.086   \n",
       "5     10002               416.0           0.959          0.889   \n",
       "6     10002               255.0           0.597          0.132   \n",
       "\n",
       "   Average_Math_Score  Average_Reading_Score  Average_Writing_Score   Total  \\\n",
       "2               657.0                  601.0                  601.0  1859.0   \n",
       "3               395.0                  411.0                  387.0  1193.0   \n",
       "4               418.0                  428.0                  415.0  1261.0   \n",
       "5               613.0                  453.0                  463.0  1529.0   \n",
       "6               410.0                  406.0                  381.0  1197.0   \n",
       "\n",
       "   Number Tested  \n",
       "2       1578.850  \n",
       "3        282.462  \n",
       "4        249.333  \n",
       "5        398.944  \n",
       "6        152.235  "
      ]
     },
     "execution_count": 67,
     "metadata": {},
     "output_type": "execute_result"
    }
   ],
   "source": [
    "# We create a new column, \"Total\", and rename some other variables\n",
    "\n",
    "df1_SAT.rename(columns={'Zip Code':'Zip_Code',\n",
    "                    'Student Enrollment':'Student_Enrollment', \n",
    "                    'Percent Tested':'Percent_Tested',\n",
    "                    'Percent Asian':'Percent_Asian', \n",
    "                    'Average Score (SAT Math)':'Average_Math_Score', \n",
    "                    'Average Score (SAT Reading)':'Average_Reading_Score', \n",
    "                    'Average Score (SAT Writing)':'Average_Writing_Score'}, \n",
    "               inplace=True)\n",
    "\n",
    "df1_SAT['Total'] = df1_SAT['Average_Math_Score'] + df1_SAT['Average_Reading_Score'] + df1_SAT['Average_Writing_Score']\n",
    "\n",
    "# We change 'Percent_Testes', 'Percent_Asian' from percentages to decimals\n",
    "df1_SAT['Percent_Tested'] = df1_SAT['Percent_Tested'].str.rstrip('%').astype('float') / 100.0\n",
    "df1_SAT['Percent_Asian'] = df1_SAT['Percent_Asian'].str.rstrip('%').astype('float') / 100.0\n",
    "\n",
    "# We create a new variable 'Number Tested'\n",
    "df1_SAT['Number Tested'] = df1_SAT['Percent_Tested']*df1_SAT['Student_Enrollment']\n",
    "\n",
    "df1_SAT.head()"
   ]
  },
  {
   "cell_type": "markdown",
   "metadata": {},
   "source": [
    "**Explanations**\n",
    "\n",
    "Here df1 is updated with rename() function, and one column is added to df1. From the updated df1 we can understand that some of our column names are changed; a new variable called *Total* is also created to represent the Y variable Mean of Total SAT Score."
   ]
  },
  {
   "cell_type": "code",
   "execution_count": 68,
   "metadata": {},
   "outputs": [
    {
     "data": {
      "text/plain": [
       "count          374\n",
       "unique           5\n",
       "top       Brooklyn\n",
       "freq           109\n",
       "Name: Borough, dtype: object"
      ]
     },
     "execution_count": 68,
     "metadata": {},
     "output_type": "execute_result"
    }
   ],
   "source": [
    "df1_SAT.Borough.describe()"
   ]
  },
  {
   "cell_type": "markdown",
   "metadata": {},
   "source": [
    "**Explanation**: Above is summary statistics for my X variable, borough. "
   ]
  },
  {
   "cell_type": "code",
   "execution_count": 62,
   "metadata": {},
   "outputs": [
    {
     "data": {
      "text/plain": [
       "count     374.000000\n",
       "mean      756.459893\n",
       "std       774.287044\n",
       "min       142.000000\n",
       "25%       397.250000\n",
       "50%       482.500000\n",
       "75%       660.500000\n",
       "max      5447.000000\n",
       "Name: Student_Enrollment, dtype: float64"
      ]
     },
     "execution_count": 62,
     "metadata": {},
     "output_type": "execute_result"
    }
   ],
   "source": [
    "df1_SAT.Student_Enrollment.describe()"
   ]
  },
  {
   "cell_type": "markdown",
   "metadata": {},
   "source": [
    "**Explanation**: Above is summary statistics for my X variable, student enrollment."
   ]
  },
  {
   "cell_type": "code",
   "execution_count": 7,
   "metadata": {},
   "outputs": [
    {
     "data": {
      "text/plain": [
       "count     374.000000\n",
       "mean     1275.347594\n",
       "std       194.866056\n",
       "min       924.000000\n",
       "25%      1157.000000\n",
       "50%      1226.000000\n",
       "75%      1327.000000\n",
       "max      2144.000000\n",
       "Name: Total, dtype: float64"
      ]
     },
     "execution_count": 7,
     "metadata": {},
     "output_type": "execute_result"
    }
   ],
   "source": [
    "df1_SAT.Total.describe()"
   ]
  },
  {
   "cell_type": "markdown",
   "metadata": {},
   "source": [
    "**Explanation**: Above is summary statistics for my Y variable, average total SAT score of each school."
   ]
  },
  {
   "cell_type": "markdown",
   "metadata": {},
   "source": [
    "**Explanation**: \n",
    "\n",
    "In the above code chunks, I created summary statistics for my X and Y variables. From these tables we could understand about the summary statistics for **X variables: borough, student enrollment**, and **Y variable: Mean of Total SAT Score**."
   ]
  },
  {
   "cell_type": "markdown",
   "metadata": {},
   "source": [
    "## Project Two"
   ]
  },
  {
   "cell_type": "markdown",
   "metadata": {},
   "source": [
    "### THE MESSAGE!\n",
    "\n",
    "As the introduction stated, our main concerns from Project One are: **correlation between location of each school and the school's mean SAT score** (some districts might have overall better performances in SAT scores than others), and **relationship between mean SAT score and each school's student enrollment** (schools with more or fewer student enrollments tend to have higher mean SAT score).  "
   ]
  },
  {
   "cell_type": "markdown",
   "metadata": {},
   "source": [
    "### Plotting relationships of concern & Finetune the Details"
   ]
  },
  {
   "cell_type": "markdown",
   "metadata": {},
   "source": [
    "**Concern 1: let's group by borough and create a boxplot to show each borough's SAT score distribution**"
   ]
  },
  {
   "cell_type": "code",
   "execution_count": 69,
   "metadata": {},
   "outputs": [
    {
     "data": {
      "text/plain": [
       "Text(0.5, 1.0, 'Mean SAT score Distribution')"
      ]
     },
     "execution_count": 69,
     "metadata": {},
     "output_type": "execute_result"
    },
    {
     "data": {
      "image/png": "[encoded data removed]",
      "text/plain": [
       "<Figure size 432x288 with 1 Axes>"
      ]
     },
     "metadata": {
      "needs_background": "light"
     },
     "output_type": "display_data"
    }
   ],
   "source": [
    "# Create a boxplot\n",
    "bplot = df1_SAT.boxplot(by='Borough', \n",
    "                       column=['Total'], \n",
    "                       grid=False)\n",
    "\n",
    "# Finetune the boxplot\n",
    "bplot.set_xlabel(\"Borough in NYC\", fontsize=20)\n",
    "bplot.set_ylabel(\"Mean SAT score\", fontsize=20)\n",
    "plt.suptitle(\"\")\n",
    "plt.title(\"Mean SAT score Distribution\",fontweight=\"bold\")"
   ]
  },
  {
   "cell_type": "markdown",
   "metadata": {},
   "source": [
    "**Explanations**: \n",
    "In this boxplot, we can see the distribution of mean SAT score of each borough."
   ]
  },
  {
   "cell_type": "markdown",
   "metadata": {},
   "source": [
    "**Concern 2: Plot the relationship between mean SAT score and student enrollment**"
   ]
  },
  {
   "cell_type": "code",
   "execution_count": 9,
   "metadata": {},
   "outputs": [
    {
     "data": {
      "image/png": "[encoded data removed]",
      "text/plain": [
       "<Figure size 432x288 with 1 Axes>"
      ]
     },
     "metadata": {
      "needs_background": "light"
     },
     "output_type": "display_data"
    }
   ],
   "source": [
    "# Create a scatter plot \n",
    "fig, ax = plt.subplots()\n",
    "df1_SAT.plot(kind=\"scatter\", x=\"Student_Enrollment\", y=\"Total\", ax=ax, s=25, \n",
    "             color=\"#1385ff\", label = 'blue: each dot is a school')\n",
    "\n",
    "# Finetune the scatter plot\n",
    "ax.set_title(\"2014-2015\")\n",
    "ax.set_ylabel(\"Mean SAT Score\")\n",
    "ax.set_xlabel(\"Student Enrollment of NYC Public School\")\n",
    "ax.spines['right'].set_visible(False)\n",
    "ax.spines['top'].set_visible(False)\n",
    "back_color = (244/255, 244/255, 255/255)\n",
    "ax.set_facecolor(back_color)"
   ]
  },
  {
   "cell_type": "markdown",
   "metadata": {},
   "source": [
    "**Explanations:**\n",
    "In this scatter plot, we can see the correlation between mean SAT score and school's student enrollment"
   ]
  },
  {
   "cell_type": "markdown",
   "metadata": {},
   "source": [
    "### Maps of NYC counties"
   ]
  },
  {
   "cell_type": "markdown",
   "metadata": {},
   "source": [
    "**In this part, we'll create maps showing mean SAT score for each Zip Code level in** \n",
    "Kings County and New York City. "
   ]
  },
  {
   "cell_type": "code",
   "execution_count": 11,
   "metadata": {},
   "outputs": [],
   "source": [
    "# Let's get the county shapefile and the zip code shapefile\n",
    "us_county_df = gpd.read_file(\"tl_2019_us_county.shp\")\n",
    "us_zip_code_df = gpd.read_file(\"tl_2019_us_zcta510.shp\")"
   ]
  },
  {
   "cell_type": "code",
   "execution_count": 12,
   "metadata": {},
   "outputs": [
    {
     "data": {
      "text/html": [
       "<div>\n",
       "<style scoped>\n",
       "    .dataframe tbody tr th:only-of-type {\n",
       "        vertical-align: middle;\n",
       "    }\n",
       "\n",
       "    .dataframe tbody tr th {\n",
       "        vertical-align: top;\n",
       "    }\n",
       "\n",
       "    .dataframe thead th {\n",
       "        text-align: right;\n",
       "    }\n",
       "</style>\n",
       "<table border=\"1\" class=\"dataframe\">\n",
       "  <thead>\n",
       "    <tr style=\"text-align: right;\">\n",
       "      <th></th>\n",
       "      <th>ZCTA5CE10</th>\n",
       "      <th>GEOID10</th>\n",
       "      <th>CLASSFP10</th>\n",
       "      <th>MTFCC10</th>\n",
       "      <th>FUNCSTAT10</th>\n",
       "      <th>ALAND10</th>\n",
       "      <th>AWATER10</th>\n",
       "      <th>INTPTLAT10</th>\n",
       "      <th>INTPTLON10</th>\n",
       "      <th>geometry</th>\n",
       "    </tr>\n",
       "  </thead>\n",
       "  <tbody>\n",
       "    <tr>\n",
       "      <th>0</th>\n",
       "      <td>43451</td>\n",
       "      <td>43451</td>\n",
       "      <td>B5</td>\n",
       "      <td>G6350</td>\n",
       "      <td>S</td>\n",
       "      <td>63484186</td>\n",
       "      <td>157689</td>\n",
       "      <td>+41.3183010</td>\n",
       "      <td>-083.6174935</td>\n",
       "      <td>POLYGON ((-83.70873 41.32733, -83.70815 41.327...</td>\n",
       "    </tr>\n",
       "    <tr>\n",
       "      <th>1</th>\n",
       "      <td>43452</td>\n",
       "      <td>43452</td>\n",
       "      <td>B5</td>\n",
       "      <td>G6350</td>\n",
       "      <td>S</td>\n",
       "      <td>121522304</td>\n",
       "      <td>13721730</td>\n",
       "      <td>+41.5157923</td>\n",
       "      <td>-082.9809454</td>\n",
       "      <td>POLYGON ((-83.08698 41.53780, -83.08256 41.537...</td>\n",
       "    </tr>\n",
       "    <tr>\n",
       "      <th>2</th>\n",
       "      <td>43456</td>\n",
       "      <td>43456</td>\n",
       "      <td>B5</td>\n",
       "      <td>G6350</td>\n",
       "      <td>S</td>\n",
       "      <td>9320975</td>\n",
       "      <td>1003775</td>\n",
       "      <td>+41.6318300</td>\n",
       "      <td>-082.8393923</td>\n",
       "      <td>MULTIPOLYGON (((-82.83558 41.71082, -82.83515 ...</td>\n",
       "    </tr>\n",
       "    <tr>\n",
       "      <th>3</th>\n",
       "      <td>43457</td>\n",
       "      <td>43457</td>\n",
       "      <td>B5</td>\n",
       "      <td>G6350</td>\n",
       "      <td>S</td>\n",
       "      <td>48004681</td>\n",
       "      <td>0</td>\n",
       "      <td>+41.2673301</td>\n",
       "      <td>-083.4274872</td>\n",
       "      <td>POLYGON ((-83.49650 41.25371, -83.48382 41.253...</td>\n",
       "    </tr>\n",
       "    <tr>\n",
       "      <th>4</th>\n",
       "      <td>43458</td>\n",
       "      <td>43458</td>\n",
       "      <td>B5</td>\n",
       "      <td>G6350</td>\n",
       "      <td>S</td>\n",
       "      <td>2573816</td>\n",
       "      <td>39915</td>\n",
       "      <td>+41.5304461</td>\n",
       "      <td>-083.2133648</td>\n",
       "      <td>POLYGON ((-83.22229 41.53102, -83.22228 41.532...</td>\n",
       "    </tr>\n",
       "  </tbody>\n",
       "</table>\n",
       "</div>"
      ],
      "text/plain": [
       "  ZCTA5CE10 GEOID10 CLASSFP10 MTFCC10 FUNCSTAT10    ALAND10  AWATER10  \\\n",
       "0     43451   43451        B5   G6350          S   63484186    157689   \n",
       "1     43452   43452        B5   G6350          S  121522304  13721730   \n",
       "2     43456   43456        B5   G6350          S    9320975   1003775   \n",
       "3     43457   43457        B5   G6350          S   48004681         0   \n",
       "4     43458   43458        B5   G6350          S    2573816     39915   \n",
       "\n",
       "    INTPTLAT10    INTPTLON10  \\\n",
       "0  +41.3183010  -083.6174935   \n",
       "1  +41.5157923  -082.9809454   \n",
       "2  +41.6318300  -082.8393923   \n",
       "3  +41.2673301  -083.4274872   \n",
       "4  +41.5304461  -083.2133648   \n",
       "\n",
       "                                            geometry  \n",
       "0  POLYGON ((-83.70873 41.32733, -83.70815 41.327...  \n",
       "1  POLYGON ((-83.08698 41.53780, -83.08256 41.537...  \n",
       "2  MULTIPOLYGON (((-82.83558 41.71082, -82.83515 ...  \n",
       "3  POLYGON ((-83.49650 41.25371, -83.48382 41.253...  \n",
       "4  POLYGON ((-83.22229 41.53102, -83.22228 41.532...  "
      ]
     },
     "execution_count": 12,
     "metadata": {},
     "output_type": "execute_result"
    }
   ],
   "source": [
    "# Let's look at variables in us_zip_code_df\n",
    "us_zip_code_df.head()"
   ]
  },
  {
   "cell_type": "markdown",
   "metadata": {},
   "source": [
    "**Explanations:**\n",
    "Looking at some lines from us_zip_code_df, we know we need to use variable \"ZCTA5CE10\" to merge later. "
   ]
  },
  {
   "cell_type": "markdown",
   "metadata": {},
   "source": [
    "1. **Now that we've got our shapefiles ready, let's look at Kings County (which is Brooklyn Borough)**"
   ]
  },
  {
   "cell_type": "code",
   "execution_count": 13,
   "metadata": {},
   "outputs": [
    {
     "data": {
      "text/html": [
       "<div>\n",
       "<style scoped>\n",
       "    .dataframe tbody tr th:only-of-type {\n",
       "        vertical-align: middle;\n",
       "    }\n",
       "\n",
       "    .dataframe tbody tr th {\n",
       "        vertical-align: top;\n",
       "    }\n",
       "\n",
       "    .dataframe thead th {\n",
       "        text-align: right;\n",
       "    }\n",
       "</style>\n",
       "<table border=\"1\" class=\"dataframe\">\n",
       "  <thead>\n",
       "    <tr style=\"text-align: right;\">\n",
       "      <th></th>\n",
       "      <th>Zip_Code</th>\n",
       "      <th>Total</th>\n",
       "    </tr>\n",
       "  </thead>\n",
       "  <tbody>\n",
       "    <tr>\n",
       "      <th>0</th>\n",
       "      <td>11201</td>\n",
       "      <td>1217.800000</td>\n",
       "    </tr>\n",
       "    <tr>\n",
       "      <th>1</th>\n",
       "      <td>11203</td>\n",
       "      <td>1186.142857</td>\n",
       "    </tr>\n",
       "    <tr>\n",
       "      <th>2</th>\n",
       "      <td>11204</td>\n",
       "      <td>1290.000000</td>\n",
       "    </tr>\n",
       "    <tr>\n",
       "      <th>3</th>\n",
       "      <td>11205</td>\n",
       "      <td>1195.666667</td>\n",
       "    </tr>\n",
       "    <tr>\n",
       "      <th>4</th>\n",
       "      <td>11206</td>\n",
       "      <td>1291.750000</td>\n",
       "    </tr>\n",
       "  </tbody>\n",
       "</table>\n",
       "</div>"
      ],
      "text/plain": [
       "   Zip_Code        Total\n",
       "0     11201  1217.800000\n",
       "1     11203  1186.142857\n",
       "2     11204  1290.000000\n",
       "3     11205  1195.666667\n",
       "4     11206  1291.750000"
      ]
     },
     "execution_count": 13,
     "metadata": {},
     "output_type": "execute_result"
    }
   ],
   "source": [
    "# Let's create a new dataframe with unique Zip Code names, for Kings County\n",
    "df1_SAT_kings_county = df1_SAT.loc[df1_SAT['Borough'] == 'Brooklyn']\n",
    "\n",
    "df1_SAT_Zip = df1_SAT_kings_county[['Zip_Code', 'Total']]\n",
    "\n",
    "grouped_Zip = df1_SAT_Zip.groupby(\"Zip_Code\")\n",
    "\n",
    "mean_each_Zip = grouped_Zip.mean()\n",
    "\n",
    "mean_each_Zip = mean_each_Zip.reset_index()\n",
    "mean_each_Zip.head()"
   ]
  },
  {
   "cell_type": "markdown",
   "metadata": {},
   "source": [
    "**Explanations:**\n",
    "Looking at mean_each_Zip, we know we'll use variable \"Zip_Code\" to merge later."
   ]
  },
  {
   "cell_type": "code",
   "execution_count": 14,
   "metadata": {},
   "outputs": [
    {
     "data": {
      "text/html": [
       "<div>\n",
       "<style scoped>\n",
       "    .dataframe tbody tr th:only-of-type {\n",
       "        vertical-align: middle;\n",
       "    }\n",
       "\n",
       "    .dataframe tbody tr th {\n",
       "        vertical-align: top;\n",
       "    }\n",
       "\n",
       "    .dataframe thead th {\n",
       "        text-align: right;\n",
       "    }\n",
       "</style>\n",
       "<table border=\"1\" class=\"dataframe\">\n",
       "  <thead>\n",
       "    <tr style=\"text-align: right;\">\n",
       "      <th></th>\n",
       "      <th>ZCTA5CE10</th>\n",
       "      <th>GEOID10</th>\n",
       "      <th>CLASSFP10</th>\n",
       "      <th>MTFCC10</th>\n",
       "      <th>FUNCSTAT10</th>\n",
       "      <th>ALAND10</th>\n",
       "      <th>AWATER10</th>\n",
       "      <th>INTPTLAT10</th>\n",
       "      <th>INTPTLON10</th>\n",
       "      <th>geometry</th>\n",
       "      <th>Zip_Code</th>\n",
       "      <th>Total</th>\n",
       "      <th>Average % SAT Score</th>\n",
       "    </tr>\n",
       "  </thead>\n",
       "  <tbody>\n",
       "    <tr>\n",
       "      <th>0</th>\n",
       "      <td>11225</td>\n",
       "      <td>11225</td>\n",
       "      <td>B5</td>\n",
       "      <td>G6350</td>\n",
       "      <td>S</td>\n",
       "      <td>2289259</td>\n",
       "      <td>0</td>\n",
       "      <td>+40.6630459</td>\n",
       "      <td>-073.9542193</td>\n",
       "      <td>POLYGON ((-73.96479 40.66205, -73.96470 40.662...</td>\n",
       "      <td>11225</td>\n",
       "      <td>1204.5</td>\n",
       "      <td>0.501875</td>\n",
       "    </tr>\n",
       "    <tr>\n",
       "      <th>1</th>\n",
       "      <td>11226</td>\n",
       "      <td>11226</td>\n",
       "      <td>B5</td>\n",
       "      <td>G6350</td>\n",
       "      <td>S</td>\n",
       "      <td>3339497</td>\n",
       "      <td>0</td>\n",
       "      <td>+40.6464480</td>\n",
       "      <td>-073.9566488</td>\n",
       "      <td>POLYGON ((-73.96755 40.64768, -73.96666 40.648...</td>\n",
       "      <td>11226</td>\n",
       "      <td>1199.4</td>\n",
       "      <td>0.499750</td>\n",
       "    </tr>\n",
       "    <tr>\n",
       "      <th>2</th>\n",
       "      <td>11229</td>\n",
       "      <td>11229</td>\n",
       "      <td>B5</td>\n",
       "      <td>G6350</td>\n",
       "      <td>S</td>\n",
       "      <td>5592659</td>\n",
       "      <td>143662</td>\n",
       "      <td>+40.6012928</td>\n",
       "      <td>-073.9444926</td>\n",
       "      <td>POLYGON ((-73.96231 40.60999, -73.96137 40.610...</td>\n",
       "      <td>11229</td>\n",
       "      <td>1386.0</td>\n",
       "      <td>0.577500</td>\n",
       "    </tr>\n",
       "    <tr>\n",
       "      <th>3</th>\n",
       "      <td>11230</td>\n",
       "      <td>11230</td>\n",
       "      <td>B5</td>\n",
       "      <td>G6350</td>\n",
       "      <td>S</td>\n",
       "      <td>4767216</td>\n",
       "      <td>0</td>\n",
       "      <td>+40.6221642</td>\n",
       "      <td>-073.9651104</td>\n",
       "      <td>POLYGON ((-73.97952 40.62937, -73.97951 40.629...</td>\n",
       "      <td>11230</td>\n",
       "      <td>1451.0</td>\n",
       "      <td>0.604583</td>\n",
       "    </tr>\n",
       "    <tr>\n",
       "      <th>4</th>\n",
       "      <td>11231</td>\n",
       "      <td>11231</td>\n",
       "      <td>B5</td>\n",
       "      <td>G6350</td>\n",
       "      <td>S</td>\n",
       "      <td>3681946</td>\n",
       "      <td>66967</td>\n",
       "      <td>+40.6779162</td>\n",
       "      <td>-074.0051543</td>\n",
       "      <td>POLYGON ((-74.02002 40.67705, -74.01954 40.677...</td>\n",
       "      <td>11231</td>\n",
       "      <td>1216.0</td>\n",
       "      <td>0.506667</td>\n",
       "    </tr>\n",
       "  </tbody>\n",
       "</table>\n",
       "</div>"
      ],
      "text/plain": [
       "   ZCTA5CE10 GEOID10 CLASSFP10 MTFCC10 FUNCSTAT10  ALAND10  AWATER10  \\\n",
       "0      11225   11225        B5   G6350          S  2289259         0   \n",
       "1      11226   11226        B5   G6350          S  3339497         0   \n",
       "2      11229   11229        B5   G6350          S  5592659    143662   \n",
       "3      11230   11230        B5   G6350          S  4767216         0   \n",
       "4      11231   11231        B5   G6350          S  3681946     66967   \n",
       "\n",
       "    INTPTLAT10    INTPTLON10  \\\n",
       "0  +40.6630459  -073.9542193   \n",
       "1  +40.6464480  -073.9566488   \n",
       "2  +40.6012928  -073.9444926   \n",
       "3  +40.6221642  -073.9651104   \n",
       "4  +40.6779162  -074.0051543   \n",
       "\n",
       "                                            geometry  Zip_Code   Total  \\\n",
       "0  POLYGON ((-73.96479 40.66205, -73.96470 40.662...     11225  1204.5   \n",
       "1  POLYGON ((-73.96755 40.64768, -73.96666 40.648...     11226  1199.4   \n",
       "2  POLYGON ((-73.96231 40.60999, -73.96137 40.610...     11229  1386.0   \n",
       "3  POLYGON ((-73.97952 40.62937, -73.97951 40.629...     11230  1451.0   \n",
       "4  POLYGON ((-74.02002 40.67705, -74.01954 40.677...     11231  1216.0   \n",
       "\n",
       "   Average % SAT Score  \n",
       "0             0.501875  \n",
       "1             0.499750  \n",
       "2             0.577500  \n",
       "3             0.604583  \n",
       "4             0.506667  "
      ]
     },
     "execution_count": 14,
     "metadata": {},
     "output_type": "execute_result"
    }
   ],
   "source": [
    "# Let's store us_zip_code data into temp_df, and use temp_df to merge and plot.\n",
    "temp_df = us_zip_code_df.copy()\n",
    "\n",
    "temp_df[\"ZCTA5CE10\"] = temp_df[\"ZCTA5CE10\"].astype(str).astype(int)\n",
    "\n",
    "# Merge Zip code shapefile with mean_each_Zip dataframe, and name it \"merge_zipcode_score\"\n",
    "merge_zipcode_score = temp_df.merge(mean_each_Zip, \n",
    "                                    left_on=\"ZCTA5CE10\", \n",
    "                                    right_on=\"Zip_Code\", \n",
    "                                    how=\"inner\")\n",
    "\n",
    "# Create a new column called \"Average % SAT Score\"; \n",
    "# the total SAT score in 2014-2015 year was 2400. \n",
    "merge_zipcode_score[\"Average % SAT Score\"] = merge_zipcode_score[\"Total\"]/2400\n",
    "merge_zipcode_score.head()"
   ]
  },
  {
   "cell_type": "markdown",
   "metadata": {},
   "source": [
    "**Explanations:**\n",
    "Here we merged datasets we needed. Next step is to plot data on Kings county map."
   ]
  },
  {
   "cell_type": "code",
   "execution_count": 15,
   "metadata": {},
   "outputs": [
    {
     "data": {
      "image/png": "[encoded data removed]",
      "text/plain": [
       "<Figure size 720x576 with 2 Axes>"
      ]
     },
     "metadata": {
      "needs_background": "light"
     },
     "output_type": "display_data"
    }
   ],
   "source": [
    "# Finally create the map of Kings County, New York City\n",
    "fig, gax = plt.subplots(figsize = (10,8))\n",
    "\n",
    "# Plot the Kings County\n",
    "us_county_df = us_county_df.loc[us_county_df['STATEFP'] == '36']\n",
    "us_county_df.query(\"COUNTYFP == '047'\").plot(ax=gax, \n",
    "                                             edgecolor=\"black\", \n",
    "                                             color=\"white\")\n",
    "\n",
    "# Plot and pass 'Average % SAT Score' as the data to color\n",
    "merge_zipcode_score.plot(ax=gax, \n",
    "                         edgecolor='black', \n",
    "                         column='Average % SAT Score', \n",
    "                         legend=True, \n",
    "                         cmap='RdBu_r',\n",
    "                         vmin=0.2, \n",
    "                         vmax=0.8 \n",
    ")\n",
    "\n",
    "# Add text to let people know what we are plotting\n",
    "gax.annotate('Average Percent SAT score for each ZipCode in Kings County',\n",
    "             xy=(0.40, 0.06),  xycoords='figure fraction')\n",
    "gax.set_title(\"Distribution of Average Percent SAT score in Kings County\")\n",
    "\n",
    "# I don't want the axis with long and lat\n",
    "plt.axis('off')\n",
    "\n",
    "plt.show()"
   ]
  },
  {
   "cell_type": "markdown",
   "metadata": {},
   "source": [
    "**Explanations:**\n",
    "Looking at this plot, we could see how schools in each geographical level (Zip Code) did in 2014-2015 SAT Exam in Kings County, NYC. "
   ]
  },
  {
   "cell_type": "markdown",
   "metadata": {},
   "source": [
    "2. **Now let's look at mean SAT score performance in the whole New York City.**\n",
    "Note that there are five counties in NYC. "
   ]
  },
  {
   "cell_type": "code",
   "execution_count": 50,
   "metadata": {},
   "outputs": [
    {
     "data": {
      "text/html": [
       "<div>\n",
       "<style scoped>\n",
       "    .dataframe tbody tr th:only-of-type {\n",
       "        vertical-align: middle;\n",
       "    }\n",
       "\n",
       "    .dataframe tbody tr th {\n",
       "        vertical-align: top;\n",
       "    }\n",
       "\n",
       "    .dataframe thead th {\n",
       "        text-align: right;\n",
       "    }\n",
       "</style>\n",
       "<table border=\"1\" class=\"dataframe\">\n",
       "  <thead>\n",
       "    <tr style=\"text-align: right;\">\n",
       "      <th></th>\n",
       "      <th>ZCTA5CE10</th>\n",
       "      <th>GEOID10</th>\n",
       "      <th>CLASSFP10</th>\n",
       "      <th>MTFCC10</th>\n",
       "      <th>FUNCSTAT10</th>\n",
       "      <th>ALAND10</th>\n",
       "      <th>AWATER10</th>\n",
       "      <th>INTPTLAT10</th>\n",
       "      <th>INTPTLON10</th>\n",
       "      <th>geometry</th>\n",
       "      <th>Zip_Code</th>\n",
       "      <th>Total</th>\n",
       "      <th>Average % SAT Score</th>\n",
       "    </tr>\n",
       "  </thead>\n",
       "  <tbody>\n",
       "    <tr>\n",
       "      <th>0</th>\n",
       "      <td>10065</td>\n",
       "      <td>10065</td>\n",
       "      <td>B5</td>\n",
       "      <td>G6350</td>\n",
       "      <td>S</td>\n",
       "      <td>984654</td>\n",
       "      <td>0</td>\n",
       "      <td>+40.7646284</td>\n",
       "      <td>-073.9631438</td>\n",
       "      <td>POLYGON ((-73.97210 40.76552, -73.97165 40.766...</td>\n",
       "      <td>10065</td>\n",
       "      <td>1297.666667</td>\n",
       "      <td>0.540694</td>\n",
       "    </tr>\n",
       "    <tr>\n",
       "      <th>1</th>\n",
       "      <td>10128</td>\n",
       "      <td>10128</td>\n",
       "      <td>B5</td>\n",
       "      <td>G6350</td>\n",
       "      <td>S</td>\n",
       "      <td>1206191</td>\n",
       "      <td>0</td>\n",
       "      <td>+40.7814283</td>\n",
       "      <td>-073.9500104</td>\n",
       "      <td>MULTIPOLYGON (((-73.93951 40.77922, -73.93957 ...</td>\n",
       "      <td>10128</td>\n",
       "      <td>1300.000000</td>\n",
       "      <td>0.541667</td>\n",
       "    </tr>\n",
       "    <tr>\n",
       "      <th>2</th>\n",
       "      <td>10282</td>\n",
       "      <td>10282</td>\n",
       "      <td>B5</td>\n",
       "      <td>G6350</td>\n",
       "      <td>S</td>\n",
       "      <td>177847</td>\n",
       "      <td>55133</td>\n",
       "      <td>+40.7169009</td>\n",
       "      <td>-074.0151190</td>\n",
       "      <td>POLYGON ((-74.01814 40.71429, -74.01798 40.715...</td>\n",
       "      <td>10282</td>\n",
       "      <td>2144.000000</td>\n",
       "      <td>0.893333</td>\n",
       "    </tr>\n",
       "    <tr>\n",
       "      <th>3</th>\n",
       "      <td>10301</td>\n",
       "      <td>10301</td>\n",
       "      <td>B5</td>\n",
       "      <td>G6350</td>\n",
       "      <td>S</td>\n",
       "      <td>9189255</td>\n",
       "      <td>12647</td>\n",
       "      <td>+40.6275046</td>\n",
       "      <td>-074.0943767</td>\n",
       "      <td>MULTIPOLYGON (((-74.09460 40.61219, -74.09442 ...</td>\n",
       "      <td>10301</td>\n",
       "      <td>1346.333333</td>\n",
       "      <td>0.560972</td>\n",
       "    </tr>\n",
       "    <tr>\n",
       "      <th>4</th>\n",
       "      <td>10302</td>\n",
       "      <td>10302</td>\n",
       "      <td>B5</td>\n",
       "      <td>G6350</td>\n",
       "      <td>S</td>\n",
       "      <td>3079121</td>\n",
       "      <td>0</td>\n",
       "      <td>+40.6307157</td>\n",
       "      <td>-074.1377294</td>\n",
       "      <td>POLYGON ((-74.15198 40.61753, -74.14769 40.622...</td>\n",
       "      <td>10302</td>\n",
       "      <td>1284.000000</td>\n",
       "      <td>0.535000</td>\n",
       "    </tr>\n",
       "  </tbody>\n",
       "</table>\n",
       "</div>"
      ],
      "text/plain": [
       "   ZCTA5CE10 GEOID10 CLASSFP10 MTFCC10 FUNCSTAT10  ALAND10  AWATER10  \\\n",
       "0      10065   10065        B5   G6350          S   984654         0   \n",
       "1      10128   10128        B5   G6350          S  1206191         0   \n",
       "2      10282   10282        B5   G6350          S   177847     55133   \n",
       "3      10301   10301        B5   G6350          S  9189255     12647   \n",
       "4      10302   10302        B5   G6350          S  3079121         0   \n",
       "\n",
       "    INTPTLAT10    INTPTLON10  \\\n",
       "0  +40.7646284  -073.9631438   \n",
       "1  +40.7814283  -073.9500104   \n",
       "2  +40.7169009  -074.0151190   \n",
       "3  +40.6275046  -074.0943767   \n",
       "4  +40.6307157  -074.1377294   \n",
       "\n",
       "                                            geometry  Zip_Code        Total  \\\n",
       "0  POLYGON ((-73.97210 40.76552, -73.97165 40.766...     10065  1297.666667   \n",
       "1  MULTIPOLYGON (((-73.93951 40.77922, -73.93957 ...     10128  1300.000000   \n",
       "2  POLYGON ((-74.01814 40.71429, -74.01798 40.715...     10282  2144.000000   \n",
       "3  MULTIPOLYGON (((-74.09460 40.61219, -74.09442 ...     10301  1346.333333   \n",
       "4  POLYGON ((-74.15198 40.61753, -74.14769 40.622...     10302  1284.000000   \n",
       "\n",
       "   Average % SAT Score  \n",
       "0             0.540694  \n",
       "1             0.541667  \n",
       "2             0.893333  \n",
       "3             0.560972  \n",
       "4             0.535000  "
      ]
     },
     "execution_count": 50,
     "metadata": {},
     "output_type": "execute_result"
    }
   ],
   "source": [
    "# We need to create a new dataframe with unique Zip Code names, for NYC\n",
    "NYC_Zip = df1_SAT[['Zip_Code', 'Total']]\n",
    "\n",
    "NYC_grouped_Zip = NYC_Zip.groupby(\"Zip_Code\")\n",
    "\n",
    "NYC_Zip_Mean_SAT = NYC_grouped_Zip.mean()\n",
    "\n",
    "NYC_mean_each_Zip = NYC_Zip_Mean_SAT.reset_index()\n",
    "\n",
    "# Let's then merge temp_df with NYC_mean_each_Zip\n",
    "merge_NYC = temp_df.merge(NYC_mean_each_Zip, \n",
    "                          left_on=\"ZCTA5CE10\", \n",
    "                          right_on=\"Zip_Code\", \n",
    "                          how=\"inner\")\n",
    "\n",
    "# Create a new column called \"Average % SAT Score\" \n",
    "# the total SAT score in 2014-2015 year was 2400\n",
    "merge_NYC[\"Average % SAT Score\"] = merge_NYC[\"Total\"]/2400\n",
    "merge_NYC.head()"
   ]
  },
  {
   "cell_type": "markdown",
   "metadata": {},
   "source": [
    "**Explanations:**\n",
    "From this data frame we see we'll use Zip Code as geographical level to plot \"Average % SAT Score\" on NYC map later. "
   ]
  },
  {
   "cell_type": "markdown",
   "metadata": {},
   "source": [
    "**Now let's look at SAT score performance in the whole New York City.**"
   ]
  },
  {
   "cell_type": "code",
   "execution_count": 17,
   "metadata": {},
   "outputs": [
    {
     "data": {
      "image/png": "[encoded data removed]",
      "text/plain": [
       "<Figure size 720x576 with 2 Axes>"
      ]
     },
     "metadata": {
      "needs_background": "light"
     },
     "output_type": "display_data"
    }
   ],
   "source": [
    "# Create the map of New York City\n",
    "fig, gax = plt.subplots(figsize = (10,8))\n",
    "\n",
    "# Plot New York City\n",
    "us_county_df.query(\"COUNTYFP == '047' or COUNTYFP == '005' or COUNTYFP == '061'or COUNTYFP == '081'or COUNTYFP == '085'\").plot(ax=gax, edgecolor=\"black\", color=\"white\")\n",
    "\n",
    "# Plot and pass the percent of total SAT score of each ZipCode, \n",
    "# 'Average % SAT Score', as the data to color\n",
    "merge_NYC.plot(ax=gax, \n",
    "               edgecolor='black', \n",
    "               column='Average % SAT Score', \n",
    "               legend=True, \n",
    "               cmap='RdBu_r',\n",
    "               vmin=0.2, \n",
    "               vmax=0.8 \n",
    ")\n",
    "\n",
    "# Add text to let people know what we are plotting\n",
    "gax.annotate('Average Percent SAT score for each ZipCode in NYC',\n",
    "             xy=(0.40, 0.06), \n",
    "             xycoords='figure fraction')\n",
    "gax.set_title(\"Distribution of Average Percent SAT score in New York City\")\n",
    "\n",
    "# I don't want the axis with long and lat\n",
    "plt.axis('off')\n",
    "\n",
    "plt.show()"
   ]
  },
  {
   "cell_type": "markdown",
   "metadata": {},
   "source": [
    "**Explanations:**\n",
    "With maps and data we already have, for now it seems that public schools in Staten Island have the best performance in mean SAT scores. "
   ]
  },
  {
   "cell_type": "markdown",
   "metadata": {},
   "source": [
    "## Project Three"
   ]
  },
  {
   "cell_type": "markdown",
   "metadata": {},
   "source": [
    "## 1. Helpful Extra Data\n",
    "Our **main message/question** is: what factors (x variables) could potentially influence or be correlated with the y variable\n",
    "(Average SAT score of each public school in NYC). I could add information about median/mean household income of different districts in NYC. I expect a positive relationship between household income and Average SAT Score and between household income \n",
    "and student enrollment. My expectation is higher household income indicates larger ability to send more children \n",
    "to top schools (higher student enrollment) and receive better education and higher SAT scores. \n",
    "\n",
    "**Explanations:**\n",
    "This data about median household income at zip code level will enhance my paper, since it adds information about the economic situations of people at each zip code level (in each zip code level location). We can scrape this data from http://zipatlas.com/us/ny/new-york/zip-code-comparison/median-household-income.htm\n",
    "I'm going to merge this data with my original data through a common column, zip code. By using the information about mean household income of each zip level, we can find potential correlation between household income and students' performances in SAT. This could possibly add insights to the research question \"which variables influence/correlate with students' performances in SAT in NYC\". "
   ]
  },
  {
   "cell_type": "markdown",
   "metadata": {},
   "source": [
    "## 2. Challenges of Scraping the Data\n",
    "I need to run my program over time (yearly) to generate this data because household incomes need to be collected every year. \n",
    "(Household incomes could change from year to year). \n",
    "\n",
    "One of the biggest challenges is that this data itself is updating from time to time. I'll have to re-run my program each time it is updated. "
   ]
  },
  {
   "cell_type": "markdown",
   "metadata": {},
   "source": [
    "## 3. Scraping data from the website of interest"
   ]
  },
  {
   "cell_type": "markdown",
   "metadata": {},
   "source": [
    "#### We'll scrape data from the website I found. "
   ]
  },
  {
   "cell_type": "markdown",
   "metadata": {},
   "source": [
    "#### Part A: Parsing HTML and accessing different elements"
   ]
  },
  {
   "cell_type": "code",
   "execution_count": 42,
   "metadata": {},
   "outputs": [],
   "source": [
    "import os\n",
    "proxy=\"http://127.0.0.1:1081\"\n",
    "os.environ['http_proxy']=proxy\n",
    "os.environ['HTTP_PROXY']=proxy\n",
    "os.environ['https_proxy']=proxy\n",
    "os.environ['HTTPS_PROXY']=proxy\n",
    "\n",
    "import requests\n",
    "from bs4 import BeautifulSoup\n",
    "\n",
    "web_url_zip_income = 'http://zipatlas.com/us/ny/new-york/zip-code-comparison/median-household-income.htm'\n",
    "response_zip_income = requests.get(web_url_zip_income)\n",
    "\n",
    "soup_object_zip_income = BeautifulSoup(response_zip_income.content)"
   ]
  },
  {
   "cell_type": "markdown",
   "metadata": {},
   "source": [
    "**Explanations:**\n",
    "In this part, we imported packages we need and got the raw code for the website I found and named it \n",
    "\"response_zip_income\". \n",
    "Note bs4 is a Python library which parses through HTML content and understands the complete structure of the content.\n",
    "Then we pass the response_zip_income content to BeautifulSoup() method to get a strutured soup object. "
   ]
  },
  {
   "cell_type": "markdown",
   "metadata": {},
   "source": [
    "#### Part B: Turning soup_object into table structure "
   ]
  },
  {
   "cell_type": "code",
   "execution_count": 46,
   "metadata": {},
   "outputs": [
    {
     "name": "stdout",
     "output_type": "stream",
     "text": [
      "<tr><td align=\"center\" class=\"report_header\" style=\"width:0%;\">#</td><td align=\"center\" class=\"report_header\" style=\"width:8%;\">Zip Code</td><td align=\"center\" class=\"report_header\" style=\"width:19%;\">Location</td><td align=\"center\" class=\"report_header\" style=\"width:25%;\">City</td><td align=\"center\" class=\"report_header\" style=\"width:13%;\">Population</td><td align=\"center\" class=\"report_header\" style=\"width:22%;\">Avg. Income/H/hold</td><td align=\"center\" class=\"report_header\" style=\"width:13%;\">National Rank</td></tr>\n",
      "--\n",
      "<tr><td align=\"right\" class=\"report_data\">1.</td><td align=\"center\" class=\"report_data\"><a href=\"/us/ny/new-york/zip-10007.htm\">10007</a></td><td align=\"right\" class=\"report_data\">40.713973, -74.008336</td><td align=\"left\" class=\"report_data\"><a href=\"/us/ny/new-york.htm\">New York</a>, <a href=\"/us/new-york.htm\">New York</a></td><td align=\"right\" class=\"report_data\">3,522</td><td align=\"right\" class=\"report_data\"><b>$112,947.00</b></td><td align=\"right\" class=\"report_data\">#132</td></tr>\n",
      "--\n",
      "<tr style=\"background-color:#f0f5f9;\"><td align=\"right\" class=\"report_data\">2.</td><td align=\"center\" class=\"report_data\"><a href=\"/us/ny/new-york/zip-10280.htm\">10280</a></td><td align=\"right\" class=\"report_data\">40.708501, -74.016828</td><td align=\"left\" class=\"report_data\"><span class=\"link\" onclick=\"window.location='/us/ny/new-york.htm';\" style=\"color:#7070A0;\">New York</span>, <span class=\"link\" onclick=\"window.location='/us/new-york.htm';\" style=\"color:#7070A0;\">New York</span></td><td align=\"right\" class=\"report_data\">6,614</td><td align=\"right\" class=\"report_data\"><b>$108,536.00</b></td><td align=\"right\" class=\"report_data\">#157</td></tr>\n",
      "--\n",
      "<tr><td align=\"right\" class=\"report_data\">3.</td><td align=\"center\" class=\"report_data\"><a href=\"/us/ny/new-york/zip-10162.htm\">10162</a></td><td align=\"right\" class=\"report_data\">40.769298, -73.949942</td><td align=\"left\" class=\"report_data\"><span class=\"link\" onclick=\"window.location='/us/ny/new-york.htm';\" style=\"color:#7070A0;\">New York</span>, <span class=\"link\" onclick=\"window.location='/us/new-york.htm';\" style=\"color:#7070A0;\">New York</span></td><td align=\"right\" class=\"report_data\">1,726</td><td align=\"right\" class=\"report_data\"><b>$108,416.00</b></td><td align=\"right\" class=\"report_data\">#158</td></tr>\n",
      "--\n",
      "<tr style=\"background-color:#f0f5f9;\"><td align=\"right\" class=\"report_data\">4.</td><td align=\"center\" class=\"report_data\"><a href=\"/us/ny/new-york/zip-10004.htm\">10004</a></td><td align=\"right\" class=\"report_data\">40.691870, -74.014109</td><td align=\"left\" class=\"report_data\"><span class=\"link\" onclick=\"window.location='/us/ny/new-york.htm';\" style=\"color:#7070A0;\">New York</span>, <span class=\"link\" onclick=\"window.location='/us/new-york.htm';\" style=\"color:#7070A0;\">New York</span></td><td align=\"right\" class=\"report_data\">1,225</td><td align=\"right\" class=\"report_data\"><b>$101,868.00</b></td><td align=\"right\" class=\"report_data\">#238</td></tr>\n",
      "--\n",
      "<tr><td align=\"right\" class=\"report_data\">5.</td><td align=\"center\" class=\"report_data\"><a href=\"/us/ny/new-york/zip-10069.htm\">10069</a></td><td align=\"right\" class=\"report_data\">40.775551, -73.989689</td><td align=\"left\" class=\"report_data\"><span class=\"link\" onclick=\"window.location='/us/ny/new-york.htm';\" style=\"color:#7070A0;\">New York</span>, <span class=\"link\" onclick=\"window.location='/us/new-york.htm';\" style=\"color:#7070A0;\">New York</span></td><td align=\"right\" class=\"report_data\">1,403</td><td align=\"right\" class=\"report_data\"><b>$88,091.00</b></td><td align=\"right\" class=\"report_data\">#507</td></tr>\n",
      "--\n"
     ]
    }
   ],
   "source": [
    "table_zip_income = soup_object_zip_income.find_all('table', {'rules':'all'})\n",
    "\n",
    "all_values_zip_income = table_zip_income[0].find_all('tr')\n",
    "\n",
    "print(all_values_zip_income[0])\n",
    "print('--')\n",
    "print(all_values_zip_income[1])\n",
    "print('--')\n",
    "print(all_values_zip_income[2])\n",
    "print('--')\n",
    "print(all_values_zip_income[3])\n",
    "print('--')\n",
    "print(all_values_zip_income[4])\n",
    "print('--')\n",
    "print(all_values_zip_income[5])\n",
    "print('--')"
   ]
  },
  {
   "cell_type": "markdown",
   "metadata": {},
   "source": [
    "**Explanations:**\n",
    "In this part, we inspected the website and identified the type of HTML tag, which is table; we also identified that table rule is 'all'. We then used these information and the find_all() method to search for the web content. \n",
    "\n",
    "Note that tr means table row, th means table header, and td means data cell. From the output, we can see that each 'tr' contains several 'td' tags, which corresponds to different columns in the table."
   ]
  },
  {
   "cell_type": "markdown",
   "metadata": {},
   "source": [
    "#### Part C: Extracting Columns and Rows from table"
   ]
  },
  {
   "cell_type": "code",
   "execution_count": 53,
   "metadata": {},
   "outputs": [
    {
     "data": {
      "text/html": [
       "<div>\n",
       "<style scoped>\n",
       "    .dataframe tbody tr th:only-of-type {\n",
       "        vertical-align: middle;\n",
       "    }\n",
       "\n",
       "    .dataframe tbody tr th {\n",
       "        vertical-align: top;\n",
       "    }\n",
       "\n",
       "    .dataframe thead th {\n",
       "        text-align: right;\n",
       "    }\n",
       "</style>\n",
       "<table border=\"1\" class=\"dataframe\">\n",
       "  <thead>\n",
       "    <tr style=\"text-align: right;\">\n",
       "      <th></th>\n",
       "      <th>zip_code</th>\n",
       "      <th>median_household_income_zip</th>\n",
       "    </tr>\n",
       "  </thead>\n",
       "  <tbody>\n",
       "    <tr>\n",
       "      <th>0</th>\n",
       "      <td>10007.0</td>\n",
       "      <td>112947.0</td>\n",
       "    </tr>\n",
       "    <tr>\n",
       "      <th>1</th>\n",
       "      <td>10280.0</td>\n",
       "      <td>108536.0</td>\n",
       "    </tr>\n",
       "    <tr>\n",
       "      <th>2</th>\n",
       "      <td>10162.0</td>\n",
       "      <td>108416.0</td>\n",
       "    </tr>\n",
       "    <tr>\n",
       "      <th>3</th>\n",
       "      <td>10004.0</td>\n",
       "      <td>101868.0</td>\n",
       "    </tr>\n",
       "    <tr>\n",
       "      <th>4</th>\n",
       "      <td>10069.0</td>\n",
       "      <td>88091.0</td>\n",
       "    </tr>\n",
       "  </tbody>\n",
       "</table>\n",
       "</div>"
      ],
      "text/plain": [
       "   zip_code  median_household_income_zip\n",
       "0   10007.0                     112947.0\n",
       "1   10280.0                     108536.0\n",
       "2   10162.0                     108416.0\n",
       "3   10004.0                     101868.0\n",
       "4   10069.0                      88091.0"
      ]
     },
     "execution_count": 53,
     "metadata": {},
     "output_type": "execute_result"
    }
   ],
   "source": [
    "# Create an empty dataframe\n",
    "zip_income_df = pd.DataFrame(columns = ['zip_code', 'median_household_income_zip'])\n",
    "\n",
    "# Initialise index to zero\n",
    "ix = 0 \n",
    "\n",
    "for row in all_values_zip_income[1:44]:\n",
    "    # Extract all elements with tag <td>\n",
    "    zip_income_values = row.find_all('td') \n",
    "\n",
    "    # Pick only zip code from the <td> tag, and get rid of '\\n' slashes. \n",
    "    zip_code = zip_income_values[1].text.strip()\n",
    "    \n",
    "    # Turn zip_code into int\n",
    "    zip_code = int(zip_code)\n",
    "    \n",
    "    # Pick median household income from the <td> tag, and get rid of '\\n' slashes. \n",
    "    median_household_income_zip = zip_income_values[5].text.strip()\n",
    "    \n",
    "    # turn median household income into float\n",
    "    median_household_income_zip = median_household_income_zip.replace( ',', '' )\n",
    "    median_household_income_zip = median_household_income_zip.replace( '$', '' )\n",
    "    median_household_income_zip = float(median_household_income_zip)\n",
    "    \n",
    "    # Store it in the dataframe as a row\n",
    "    zip_income_df.loc[ix] = [zip_code, median_household_income_zip] \n",
    "    ix += 1\n",
    "\n",
    "# select the first name if a borough has two names \n",
    "#borough_income_df.borough[borough_income_df.borough=='Brooklyn (Kings)'] = 'Brooklyn'\n",
    "#borough_income_df.borough[borough_income_df.borough=='Staten Island (Richmond)'] = 'Staten Island'\n",
    "\n",
    "# Print the first 5 rows of the dataframe\n",
    "zip_income_df.head()"
   ]
  },
  {
   "cell_type": "markdown",
   "metadata": {},
   "source": [
    "**Explanations:**\n",
    "In this part, we created an empty dataframe called zip_income_df, and filled it with all the columns \n",
    "and rows from original table. We looped over each row and each data cell in the row, and we assigned values\n",
    "to the 2 columns in zip_income_df. \n",
    "\n",
    "We looped over 1-44 rows because there are 43 zip codes in NYC with valid income values."
   ]
  },
  {
   "cell_type": "markdown",
   "metadata": {},
   "source": [
    "## 4. Merge scraped data with original data "
   ]
  },
  {
   "cell_type": "code",
   "execution_count": 54,
   "metadata": {},
   "outputs": [
    {
     "data": {
      "text/html": [
       "<div>\n",
       "<style scoped>\n",
       "    .dataframe tbody tr th:only-of-type {\n",
       "        vertical-align: middle;\n",
       "    }\n",
       "\n",
       "    .dataframe tbody tr th {\n",
       "        vertical-align: top;\n",
       "    }\n",
       "\n",
       "    .dataframe thead th {\n",
       "        text-align: right;\n",
       "    }\n",
       "</style>\n",
       "<table border=\"1\" class=\"dataframe\">\n",
       "  <thead>\n",
       "    <tr style=\"text-align: right;\">\n",
       "      <th></th>\n",
       "      <th>zip_code</th>\n",
       "      <th>median_household_income_zip</th>\n",
       "      <th>Zip_Code</th>\n",
       "      <th>Total</th>\n",
       "      <th>Percent_Tested</th>\n",
       "      <th>Percent_Asian</th>\n",
       "      <th>Student_Enrollment</th>\n",
       "    </tr>\n",
       "  </thead>\n",
       "  <tbody>\n",
       "    <tr>\n",
       "      <th>0</th>\n",
       "      <td>10004.0</td>\n",
       "      <td>101868.0</td>\n",
       "      <td>10004</td>\n",
       "      <td>1380.250000</td>\n",
       "      <td>0.7695</td>\n",
       "      <td>0.1275</td>\n",
       "      <td>519.25</td>\n",
       "    </tr>\n",
       "    <tr>\n",
       "      <th>1</th>\n",
       "      <td>10282.0</td>\n",
       "      <td>86066.0</td>\n",
       "      <td>10282</td>\n",
       "      <td>2144.000000</td>\n",
       "      <td>0.9740</td>\n",
       "      <td>0.7340</td>\n",
       "      <td>3296.00</td>\n",
       "    </tr>\n",
       "    <tr>\n",
       "      <th>2</th>\n",
       "      <td>10006.0</td>\n",
       "      <td>81334.0</td>\n",
       "      <td>10006</td>\n",
       "      <td>1268.000000</td>\n",
       "      <td>0.6085</td>\n",
       "      <td>0.1280</td>\n",
       "      <td>747.50</td>\n",
       "    </tr>\n",
       "    <tr>\n",
       "      <th>3</th>\n",
       "      <td>10024.0</td>\n",
       "      <td>78066.0</td>\n",
       "      <td>10024</td>\n",
       "      <td>1282.666667</td>\n",
       "      <td>0.6950</td>\n",
       "      <td>0.0410</td>\n",
       "      <td>412.00</td>\n",
       "    </tr>\n",
       "    <tr>\n",
       "      <th>4</th>\n",
       "      <td>10021.0</td>\n",
       "      <td>75472.0</td>\n",
       "      <td>10021</td>\n",
       "      <td>1889.000000</td>\n",
       "      <td>0.8600</td>\n",
       "      <td>0.2010</td>\n",
       "      <td>541.00</td>\n",
       "    </tr>\n",
       "  </tbody>\n",
       "</table>\n",
       "</div>"
      ],
      "text/plain": [
       "   zip_code  median_household_income_zip  Zip_Code        Total  \\\n",
       "0   10004.0                     101868.0     10004  1380.250000   \n",
       "1   10282.0                      86066.0     10282  2144.000000   \n",
       "2   10006.0                      81334.0     10006  1268.000000   \n",
       "3   10024.0                      78066.0     10024  1282.666667   \n",
       "4   10021.0                      75472.0     10021  1889.000000   \n",
       "\n",
       "   Percent_Tested  Percent_Asian  Student_Enrollment  \n",
       "0          0.7695         0.1275              519.25  \n",
       "1          0.9740         0.7340             3296.00  \n",
       "2          0.6085         0.1280              747.50  \n",
       "3          0.6950         0.0410              412.00  \n",
       "4          0.8600         0.2010              541.00  "
      ]
     },
     "execution_count": 54,
     "metadata": {},
     "output_type": "execute_result"
    }
   ],
   "source": [
    "# We need to create a new dataframe with unique Zip Code names, for NYC\n",
    "NYC_Zip_Variables = df1_SAT[['Zip_Code', 'Total', 'Percent_Tested',\n",
    "                  'Percent_Asian',\n",
    "                  'Student_Enrollment']]\n",
    "\n",
    "NYC_grouped_Zip_Variables = NYC_Zip_Variables.groupby(\"Zip_Code\")\n",
    "\n",
    "NYC_Zip_Mean_SAT = NYC_grouped_Zip_Variables.mean()\n",
    "\n",
    "NYC_means_each_Zip = NYC_Zip_Mean_SAT.reset_index()\n",
    "\n",
    "# Let's then merge NYC_means_each_Zi with zip_income_df\n",
    "merge_income = zip_income_df.merge(NYC_means_each_Zip, \n",
    "                          left_on=\"zip_code\", \n",
    "                          right_on=\"Zip_Code\", \n",
    "                          how=\"inner\")\n",
    "\n",
    "merge_income.head()"
   ]
  },
  {
   "cell_type": "markdown",
   "metadata": {},
   "source": [
    "**Explanations:**\n",
    "We merged contents from zip_income_df with NYC_means_each_Zip, and the output shows \n",
    "median household income and mean of SAT Total Score (and also some other variables)\n",
    "at each zip code level. "
   ]
  },
  {
   "cell_type": "markdown",
   "metadata": {},
   "source": [
    "## 5. Visualize the New Data"
   ]
  },
  {
   "cell_type": "markdown",
   "metadata": {},
   "source": [
    "Let's create a linear regression model to show the correlation between household income and \n",
    "mean of SAT Total score at each zip code level."
   ]
  },
  {
   "cell_type": "code",
   "execution_count": 55,
   "metadata": {},
   "outputs": [],
   "source": [
    "# Import packages we need\n",
    "import numpy as np \n",
    "import seaborn as sns\n",
    "from sklearn import preprocessing, svm \n",
    "from sklearn.model_selection import train_test_split\n",
    "from sklearn.linear_model import LinearRegression"
   ]
  },
  {
   "cell_type": "code",
   "execution_count": 57,
   "metadata": {},
   "outputs": [
    {
     "name": "stdout",
     "output_type": "stream",
     "text": [
      "Regression Score is:\n",
      "-2.5835137525708385\n"
     ]
    },
    {
     "data": {
      "image/png": "[encoded data removed]",
      "text/plain": [
       "<Figure size 720x576 with 1 Axes>"
      ]
     },
     "metadata": {
      "needs_background": "light"
     },
     "output_type": "display_data"
    }
   ],
   "source": [
    "# Draw scatter plot \n",
    "fig, gax = plt.subplots(figsize = (10,8))\n",
    "merge_income.plot(ax = gax, \n",
    "                  kind = 'scatter', \n",
    "                  x = 'median_household_income_zip', \n",
    "                  y = 'Total', \n",
    "                  color = 'b', \n",
    "                  label = 'blue: each dot is a zip code')\n",
    "\n",
    "# Label & Annotate the graph\n",
    "gax.set_xlabel(\"median_household_income of each zip\", \n",
    "               fontdict={'fontsize':18})\n",
    "gax.set_ylabel(\"mean of SAT Total Score at zip level\", \n",
    "               fontdict={'fontsize':18})\n",
    "gax.set_title(\"Correlation between median household income and mean of SAT Score\", \n",
    "              fontdict={'fontsize':22})\n",
    "\n",
    "# Finetune the appearance of graph\n",
    "gax.spines['right'].set_visible(False)\n",
    "gax.spines['top'].set_visible(False)\n",
    "back_color = (244/255, 244/255, 255/255)\n",
    "gax.set_facecolor(back_color)\n",
    "\n",
    "# Do linear regression on the data \n",
    "X = np.array(merge_income['median_household_income_zip']).reshape(-1, 1) \n",
    "y = np.array(merge_income['Total']).reshape(-1, 1) \n",
    "X_train, X_test, y_train, y_test = train_test_split(X, y, test_size = 0.25)\n",
    "\n",
    "regr = LinearRegression() \n",
    "  \n",
    "regr.fit(X_train, y_train)\n",
    "# Print regression score\n",
    "print('Regression Score is:')\n",
    "print(regr.score(X_test, y_test))\n",
    "\n",
    "y_pred = regr.predict(X_test) \n",
    "plt.scatter(X_test, y_test, color ='b') \n",
    "plt.plot(X_test, y_pred, color ='k') \n",
    "  \n",
    "plt.show()"
   ]
  },
  {
   "cell_type": "markdown",
   "metadata": {},
   "source": [
    "**Explanations:**\n",
    "Using a linear regression model, we could observe that there exists a relatively moderate\n",
    "linear relationship between the median household income and SAT score of each zip code region. \n",
    "This indicates that the potential X-variable, household income, might actually be correlated with \n",
    "or have influences on the Y variable, mean of SAT Total Score. \n",
    "\n",
    "The correlation between household income and academic performance is consistent with my expectation. \n",
    "Potential economic explanation behind this would be that usually higher income indicates more money\n",
    "and more resources available for academic support. Richer people might be able to put more efforts\n",
    "and money to build better teaching facilitie and hire better teachers to prepare for SAT. "
   ]
  },
  {
   "cell_type": "markdown",
   "metadata": {},
   "source": [
    "# Final Project "
   ]
  },
  {
   "cell_type": "markdown",
   "metadata": {},
   "source": [
    "1. Back in Project One, I determined my X variables to be borough and student enrollment, and my Y variable \n",
    "   to be the mean of total SAT Score.\n",
    "   \n",
    "   I expect schools in different boroughs to have different SAT performances, that is, SAT performance of a \n",
    "   school is correlated with its location through residents' economic conditions; I also expect \n",
    "   this relationship to be non-linear, since borough itself is not a quantitative variable. The \n",
    "   economic intuition behind this is that districts with higher household incomes tend to have richer \n",
    "   families who might potentially be more willing to spend a larger fraction of their incomes inexchange \n",
    "   for better educational resources. \n",
    "   (This could potentially be illustrated by the median household income data I scraped in Project 3)\n",
    "  \n",
    "   For student enrollment, I expect it to have a weak to moderate linear relationship with mean \n",
    "   SAT Score of each school. \n",
    "   The economic intuition behind this is that more students enrolled might indicate larger school scale and \n",
    "   more resources (which would be attractive to high-income families who care about education), \n",
    "   though more resouces doesn't necessarily create more educational funds and better SAT performances. "
   ]
  },
  {
   "cell_type": "markdown",
   "metadata": {},
   "source": [
    "2. I choose student enrollment and median_household_income to be in the regression, because these two\n",
    "   X variables are quantitative; their degree of correlation with mean SAT Score could be directly demonstrated. \n",
    "   What's more, they can explain my Y variable since I could run both bivariate and multivariate regression models.\n",
    "   I could investigate whether they have obvious linear relationships with my Y variable or not.\n",
    "   \n",
    "   I'll also put other variables including percent_tested and number_tested; together with student enrollment \n",
    "   and household income data, they might provide a potentially more comprehensive economic insight to the SAT\n",
    "   performance of students. "
   ]
  },
  {
   "cell_type": "markdown",
   "metadata": {},
   "source": [
    "3. I will run four separate regressions based on several X variables.  "
   ]
  },
  {
   "cell_type": "markdown",
   "metadata": {},
   "source": [
    "**A**: The 1st regression I will run is a multivariate linear regression to examine the relationship between mean SAT \n",
    "Total Score and median household income and student enrollment. "
   ]
  },
  {
   "cell_type": "code",
   "execution_count": 70,
   "metadata": {},
   "outputs": [],
   "source": [
    "# First let's add a column to merge_income\n",
    "merge_income['const'] = 1\n",
    "\n",
    "# Let's then import packages needed for regressions.\n",
    "import statsmodels.api as sm\n",
    "from statsmodels.iolib.summary2 import summary_col\n",
    "from linearmodels.iv import IV2SLS\n",
    "import numpy as np"
   ]
  },
  {
   "cell_type": "code",
   "execution_count": 75,
   "metadata": {},
   "outputs": [
    {
     "name": "stdout",
     "output_type": "stream",
     "text": [
      "                            OLS Regression Results                            \n",
      "==============================================================================\n",
      "Dep. Variable:                  Total   R-squared:                       0.538\n",
      "Model:                            OLS   Adj. R-squared:                  0.499\n",
      "Method:                 Least Squares   F-statistic:                     13.96\n",
      "Date:                Thu, 17 Dec 2020   Prob (F-statistic):           9.53e-05\n",
      "Time:                        11:44:50   Log-Likelihood:                -174.17\n",
      "No. Observations:                  27   AIC:                             354.3\n",
      "Df Residuals:                      24   BIC:                             358.2\n",
      "Df Model:                           2                                         \n",
      "Covariance Type:            nonrobust                                         \n",
      "===============================================================================================\n",
      "                                  coef    std err          t      P>|t|      [0.025      0.975]\n",
      "-----------------------------------------------------------------------------------------------\n",
      "const                        1068.2550     72.306     14.774      0.000     919.022    1217.488\n",
      "median_household_income_zip     0.0023      0.001      1.759      0.091      -0.000       0.005\n",
      "Student_Enrollment              0.2562      0.058      4.409      0.000       0.136       0.376\n",
      "==============================================================================\n",
      "Omnibus:                       15.313   Durbin-Watson:                   2.163\n",
      "Prob(Omnibus):                  0.000   Jarque-Bera (JB):               16.476\n",
      "Skew:                           1.447   Prob(JB):                     0.000264\n",
      "Kurtosis:                       5.503   Cond. No.                     1.24e+05\n",
      "==============================================================================\n",
      "\n",
      "Notes:\n",
      "[1] Standard Errors assume that the covariance matrix of the errors is correctly specified.\n",
      "[2] The condition number is large, 1.24e+05. This might indicate that there are\n",
      "strong multicollinearity or other numerical problems.\n"
     ]
    }
   ],
   "source": [
    "reg_income = sm.OLS(endog=merge_income['Total'], \n",
    "                    exog=merge_income[['const', 'median_household_income_zip',\n",
    "                                      'Student_Enrollment']], \\\n",
    "    missing='drop')\n",
    "results_income = reg_income.fit()\n",
    "\n",
    "print(results_income.summary())"
   ]
  },
  {
   "cell_type": "markdown",
   "metadata": {},
   "source": [
    "**Explanations**: \n",
    "Here we created a summary table. The P value of 0.091 is less than 0.1 but greater than 0.05, which indicates \n",
    "that the effect of median household income on mean of Total SAT score is moderately strong (there is a moderate correlation between median household income and mean SAT Score). \n",
    "What's more, the coefficient of 0.0023 means as median household income increases by 1 unit (dollar), the mean of SAT \n",
    "Total Score tends to increase by 0.0023 units. \n",
    "\n",
    "For student enrollment, the P value of 0.000 is significant, indicating a strong correlation between student enrollment \n",
    "and mean of SAT Total Score. The coiefficient of 0.2562 means as student enrollment rises by 1 unit, mean of SAT\n",
    "Total Score tends to rise by 0.2562 units. \n",
    "\n",
    "An adjusted R-squared of roughly 0.5 indicates a moderate correlation between joint performance of student enrollment\n",
    "and median household income and mean of SAT Total Score. "
   ]
  },
  {
   "cell_type": "markdown",
   "metadata": {},
   "source": [
    "#### Justifications:\n",
    "I choose to run this regression because I expect a moderate linear correlation between\n",
    "student enrollment, household income, and mean SAT Score. The economic intuition is that\n",
    "more student enrollment and more household income together would indicate that a school seems \n",
    "more attractive to families with high income who value about education; both high income \n",
    "and value on education are necessary factors that would provide better resources for students \n",
    "and thus lead to better SAT performances. "
   ]
  },
  {
   "cell_type": "markdown",
   "metadata": {},
   "source": [
    "**B**: The 2nd regression I will run is a multivariate linear regression that combines both \n",
    "Student_Enrollment and Percent_Tested with mean of SAT score. "
   ]
  },
  {
   "cell_type": "code",
   "execution_count": 76,
   "metadata": {},
   "outputs": [
    {
     "name": "stdout",
     "output_type": "stream",
     "text": [
      "                            OLS Regression Results                            \n",
      "==============================================================================\n",
      "Dep. Variable:                  Total   R-squared:                       0.754\n",
      "Model:                            OLS   Adj. R-squared:                  0.734\n",
      "Method:                 Least Squares   F-statistic:                     36.83\n",
      "Date:                Thu, 17 Dec 2020   Prob (F-statistic):           4.86e-08\n",
      "Time:                        11:51:41   Log-Likelihood:                -165.64\n",
      "No. Observations:                  27   AIC:                             337.3\n",
      "Df Residuals:                      24   BIC:                             341.2\n",
      "Df Model:                           2                                         \n",
      "Covariance Type:            nonrobust                                         \n",
      "======================================================================================\n",
      "                         coef    std err          t      P>|t|      [0.025      0.975]\n",
      "--------------------------------------------------------------------------------------\n",
      "const                582.4505    116.953      4.980      0.000     341.072     823.829\n",
      "Student_Enrollment     0.2026      0.044      4.625      0.000       0.112       0.293\n",
      "Percent_Tested       890.1793    171.432      5.193      0.000     536.360    1243.998\n",
      "==============================================================================\n",
      "Omnibus:                       24.857   Durbin-Watson:                   1.989\n",
      "Prob(Omnibus):                  0.000   Jarque-Bera (JB):               53.639\n",
      "Skew:                           1.752   Prob(JB):                     2.25e-12\n",
      "Kurtosis:                       8.950   Cond. No.                     8.19e+03\n",
      "==============================================================================\n",
      "\n",
      "Notes:\n",
      "[1] Standard Errors assume that the covariance matrix of the errors is correctly specified.\n",
      "[2] The condition number is large, 8.19e+03. This might indicate that there are\n",
      "strong multicollinearity or other numerical problems.\n"
     ]
    }
   ],
   "source": [
    "reg_2 = sm.OLS(endog=merge_income['Total'], exog=merge_income[['const', 'Student_Enrollment', 'Percent_Tested']], \\\n",
    "    missing='drop')\n",
    "results_2_reg = reg_2.fit()\n",
    "\n",
    "print(results_2_reg.summary())"
   ]
  },
  {
   "cell_type": "markdown",
   "metadata": {},
   "source": [
    "**Explanations**: \n",
    "Here we created a summary table. For student enrollment, P value of 0.000 is significant, indicating strong \n",
    "corrleation between it and mean SAT Score. As student enrollment increases by 1, mean SAT score tends to \n",
    "increase by 0.2.\n",
    "\n",
    "For percent_tested, P value of 0 is significant, indicating a relatively strong effect of percent of \n",
    "students taking SAT on mean SAT Score. "
   ]
  },
  {
   "cell_type": "markdown",
   "metadata": {},
   "source": [
    "#### Justifications:\n",
    "I choose to run this regression because I want to examine about the joint effect of \n",
    "student enrollment and percent of students taking SAT on my Y variable, mean SAT score.\n",
    "The economic intuition is that as fraction of students taking the SAT is higher and \n",
    "student enrollment is larger, it indicates that students at this school value academic \n",
    "performances more and are in need of SAT score in order to apply for colleges.\n",
    "(These students might come from high-income families that value education much and could pay \n",
    "for expensive college tuition)\n",
    "Also, with more students enrolled and taking SAT, it's more likely for schools to \n",
    "put more budget and resources in preparation for SAT."
   ]
  },
  {
   "cell_type": "markdown",
   "metadata": {},
   "source": [
    "**C**: The 3rd regression I will run is a multivariate linear regression that combines both \n",
    "Student_Enrollment and Number Tested with mean of SAT score. "
   ]
  },
  {
   "cell_type": "code",
   "execution_count": 79,
   "metadata": {},
   "outputs": [
    {
     "name": "stdout",
     "output_type": "stream",
     "text": [
      "                            OLS Regression Results                            \n",
      "==============================================================================\n",
      "Dep. Variable:                  Total   R-squared:                       0.394\n",
      "Model:                            OLS   Adj. R-squared:                  0.391\n",
      "Method:                 Least Squares   F-statistic:                     120.7\n",
      "Date:                Thu, 17 Dec 2020   Prob (F-statistic):           4.10e-41\n",
      "Time:                        11:53:41   Log-Likelihood:                -2408.3\n",
      "No. Observations:                 374   AIC:                             4823.\n",
      "Df Residuals:                     371   BIC:                             4834.\n",
      "Df Model:                           2                                         \n",
      "Covariance Type:            nonrobust                                         \n",
      "======================================================================================\n",
      "                         coef    std err          t      P>|t|      [0.025      0.975]\n",
      "--------------------------------------------------------------------------------------\n",
      "const               1222.9106     11.163    109.546      0.000    1200.959    1244.862\n",
      "Student_Enrollment    -0.2677      0.032     -8.338      0.000      -0.331      -0.205\n",
      "Number Tested          0.5018      0.042     12.062      0.000       0.420       0.584\n",
      "==============================================================================\n",
      "Omnibus:                      130.372   Durbin-Watson:                   1.878\n",
      "Prob(Omnibus):                  0.000   Jarque-Bera (JB):              463.215\n",
      "Skew:                           1.540   Prob(JB):                    2.60e-101\n",
      "Kurtosis:                       7.498   Cond. No.                     1.88e+03\n",
      "==============================================================================\n",
      "\n",
      "Notes:\n",
      "[1] Standard Errors assume that the covariance matrix of the errors is correctly specified.\n",
      "[2] The condition number is large, 1.88e+03. This might indicate that there are\n",
      "strong multicollinearity or other numerical problems.\n"
     ]
    }
   ],
   "source": [
    "df1_SAT['const'] = 1\n",
    "reg_3 = sm.OLS(endog=df1_SAT['Total'], exog=df1_SAT[['const', 'Student_Enrollment', 'Number Tested']], \\\n",
    "    missing='drop')\n",
    "results_3_reg = reg_3.fit()\n",
    "\n",
    "print(results_3_reg.summary())"
   ]
  },
  {
   "cell_type": "markdown",
   "metadata": {},
   "source": [
    "**Explanations**: \n",
    "Here we created a summary table. For student enrollment, P value of 0 indicates strong effect of student enrollment \n",
    "on mean SAT Score. Coefficient of -0.27 indicates a slightly negative correlation between student enrollment and \n",
    "mean SAT Score. \n",
    "\n",
    "For number of students taking SAT, a P value of 0 also indicates it has a relatively strong correlation with the mean \n",
    "of total SAT score. "
   ]
  },
  {
   "cell_type": "markdown",
   "metadata": {},
   "source": [
    "#### Justifictions:\n",
    "I choose to run this regression because I want to examine about the joint effect of \n",
    "student enrollment and number tested on my Y variable, mean SAT score.\n",
    "The economic intuition is that the number of students\n",
    "taking the SAT have correlations with economic conditions of students' families (which could\n",
    "put money and resources into preparation for SAT), which would potentially \n",
    "facilitate SAT performances."
   ]
  },
  {
   "cell_type": "markdown",
   "metadata": {},
   "source": [
    "**D**: The 4th regression I will run is a multivariate linear regression that combines both \n",
    "median household income and percent tested with mean of SAT score."
   ]
  },
  {
   "cell_type": "code",
   "execution_count": 80,
   "metadata": {},
   "outputs": [
    {
     "name": "stdout",
     "output_type": "stream",
     "text": [
      "                            OLS Regression Results                            \n",
      "==============================================================================\n",
      "Dep. Variable:                  Total   R-squared:                       0.581\n",
      "Model:                            OLS   Adj. R-squared:                  0.546\n",
      "Method:                 Least Squares   F-statistic:                     16.64\n",
      "Date:                Thu, 17 Dec 2020   Prob (F-statistic):           2.92e-05\n",
      "Time:                        11:55:41   Log-Likelihood:                -172.84\n",
      "No. Observations:                  27   AIC:                             351.7\n",
      "Df Residuals:                      24   BIC:                             355.6\n",
      "Df Model:                           2                                         \n",
      "Covariance Type:            nonrobust                                         \n",
      "===============================================================================================\n",
      "                                  coef    std err          t      P>|t|      [0.025      0.975]\n",
      "-----------------------------------------------------------------------------------------------\n",
      "const                         507.8774    153.013      3.319      0.003     192.074     823.681\n",
      "median_household_income_zip     0.0020      0.001      1.621      0.118      -0.001       0.005\n",
      "Percent_Tested               1067.6766    218.256      4.892      0.000     617.218    1518.135\n",
      "==============================================================================\n",
      "Omnibus:                        8.514   Durbin-Watson:                   2.194\n",
      "Prob(Omnibus):                  0.014   Jarque-Bera (JB):                6.654\n",
      "Skew:                           1.114   Prob(JB):                       0.0359\n",
      "Kurtosis:                       3.975   Cond. No.                     4.69e+05\n",
      "==============================================================================\n",
      "\n",
      "Notes:\n",
      "[1] Standard Errors assume that the covariance matrix of the errors is correctly specified.\n",
      "[2] The condition number is large, 4.69e+05. This might indicate that there are\n",
      "strong multicollinearity or other numerical problems.\n"
     ]
    }
   ],
   "source": [
    "reg_4 = sm.OLS(endog=merge_income['Total'], exog=merge_income[['const', 'median_household_income_zip', \n",
    "                                                               'Percent_Tested']], \\\n",
    "    missing='drop')\n",
    "results_4_reg = reg_4.fit()\n",
    "\n",
    "print(results_4_reg.summary())"
   ]
  },
  {
   "cell_type": "markdown",
   "metadata": {},
   "source": [
    "**Explanations**: \n",
    "Here we created a summary table. For median household income, P value of 0.12 is a bit large, which indicates a \n",
    "relatively moderate effect of household income on mean SAT Score. Coefficient of 0.002 indicates a slightly positive correlation between median household income and mean SAT Score. \n",
    "\n",
    "For percent of students taking SAT, a P value of 0 is significant and indicates it has a relatively strong correlation with the mean of total SAT score."
   ]
  },
  {
   "cell_type": "markdown",
   "metadata": {},
   "source": [
    "#### Justifictions:\n",
    "I choose to run this regression because I want to examine about the joint effect of \n",
    "median household income and percent tested on my Y variable, mean SAT score.\n",
    "The economic intuition is that larger fraction of students\n",
    "taking the SAT indicate better economic conditions of students' families to\n",
    "put money and resources into preparation for SAT, which would potentially \n",
    "facilitate better SAT performances. \n",
    "What's more, when larger fraction of students take SAT, \n",
    "schools might tend to hire more good teachers to teach SAT materials."
   ]
  },
  {
   "cell_type": "markdown",
   "metadata": {},
   "source": [
    "#### Preferred specification: \n",
    "I prefer regression 2 because student enrollment and percentage of students taking SAT\n",
    "can be intuitively linked with a school's educational resources and the economic conditions\n",
    "(such as incomes) of students' families, thus would possibly provide reasoning for the \n",
    "variation in SAT performances across schools. Also, the regression result table\n",
    "shows that correlation between these two variables and our Y variable is relatively strong. "
   ]
  },
  {
   "cell_type": "markdown",
   "metadata": {},
   "source": [
    "#### Evaluating regressions:\n",
    "While evaluating my 4 regression models, it is worth noting that there exists some slight inconsistencies \n",
    "in the results they produced. For instance, the direction of correlation between student enrollment and mean of SAT Total Score are different in regression A, B, and C, indicating there might be numerical problems or problems in our regressions. \n",
    "\n",
    "I should use the summary statistics produced in regression tables to assess performances of my regressions. Specifically, \n",
    "I compare coefficients for the same variable across regressions. For example, I compare coefficient for student enrollment \n",
    "across regressions and found that this coefficient is negative in regression C yet positive in regression A and B. This indicates inconsistencies across my regression models. \n",
    "\n",
    "I should also use the notes at the end of table to evaluate my regression models. For example, the notes mention \n",
    "'multicollinearity' in all 4 regression tables, indicating that my X variables themselvs are highly related in these\n",
    "multivariate regression models. "
   ]
  },
  {
   "cell_type": "markdown",
   "metadata": {},
   "source": [
    "#### Regression Results:\n",
    "From the above 4 regressions, we understand that there exists moderate\n",
    "correlation between student enrollment, median household income and mean SAT score of schools. \n",
    "We also understand that these two variables also seem to have a moderate to strong relationship with\n",
    "SAT performance of a school when combined with other factors. \n",
    "These results facilitate in answering the resarch question since they could provide intuition\n",
    "of the tendency of a school's average SAT performance when we know the behaviors of our X variables. "
   ]
  },
  {
   "cell_type": "markdown",
   "metadata": {},
   "source": [
    "# Conclusion\n",
    "\n",
    "In this paper, I defined two X variables: **student enrollment and borough**, together with an imported variable from\n",
    "the extra data I scraped: **median household income** at zip code level to answer our economic question \"How would student enrollment, borough, and median household income potentially correlate with SAT performance\". \n",
    "\n",
    "To begin with, in Project One, I cleaned and collected the data I needed and provided some summary statistics of my X and Y variables.\n",
    "\n",
    "Then in Project Two, I plotted relationships of concern and put my X and Y variables on graphs. I also created heat maps which \n",
    "shows distribution of mean SAT Score at zip code levels in **both Brooklyn Borough and NYC**. In this way I provided answers\n",
    "for the question \"How are the locations(borough) of each school correlated with the school's overall performance in SAT Exam\",\n",
    "as the heat maps show that performance of mean SAT score did vary across boroughs. \n",
    "\n",
    "In Project Three, I scraped extra data of median household income of NYC at zip code level and merged it with original data. \n",
    "I also drew a linear regression plot to demonstrate the correlation between median household income and mean SAT score. \n",
    "In this way I provided insights for the subsequent question \"Does median household income correlate with \n",
    "mean SAT score of a school\". \n",
    "\n",
    "Finally in Final Project, I put several variables into my four regressions such as student enrollment, median household income, and mean of SAT Total Score. By conducting multivariate regressions, I provided insights for the main question \"Is the overall performance on SAT related with school's number of student enrollment\". \n",
    "\n",
    "We also reached the following conclusions (main results):\n",
    "There exists a moderate positive correlation both between median household income and SAT performance and between \n",
    "student enrollment and correlation. From the first regression table of final project, we could also see that jointly, \n",
    "when median household income increases by 1 unit (dollar), the mean SAT score of a district (zip code region) tends to \n",
    "increase by 0.0023; when student enrollment increases by 1 unit, the mean SAT score tends to increase by 0.2562. \n",
    "\n",
    "The mean SAT score varies across boroughs. From the heat maps we could see that Staten Island has the best overall SAT\n",
    "performance, while Brooklyn and Bronx have the worst overall SAT performances. \n",
    "\n",
    "To conclude with, we have reached valid findings to answer our economic question which states the correlation between student enrollment, borough, median household income, and mean of SAT Total score."
   ]
  },
  {
   "cell_type": "markdown",
   "metadata": {},
   "source": [
    "# Future Work\n",
    "\n",
    "There are still some questions unanswered in our paper. For example, we didn't investigate into the correlation between different districts (such as boroughs) and median household income of each district. We didn't talk about economic features like demographic structure or government intervention on school education either, which could also probably be correlated with SAT performance of a school. In further research, we could try to add more data on government intervention or demographic structure as well. \n",
    "\n",
    "There are also apparent limitations of my work. For instance, in Project 3, the correlation score of my linear regression plot between median household income and mean SAT score is not as significant as I expected; from the plot itself, correlation between these two variables also doesn't seem as strong as I expected.\n",
    "\n",
    "In order to improve my paper and limitations, I could scrape more data on other economic features that might correlate\n",
    "with mean SAT score. I could also involve more complicated regression models (such as using regression tree to plot the 3D relationship between student enrollment, median household income, and mean of SAT Total Score) in order to form a \n",
    "more comprehensive paper. "
   ]
  }
 ],
 "metadata": {
  "kernelspec": {
   "display_name": "Python 3",
   "language": "python",
   "name": "python3"
  },
  "language_info": {
   "codemirror_mode": {
    "name": "ipython",
    "version": 3
   },
   "file_extension": ".py",
   "mimetype": "text/x-python",
   "name": "python",
   "nbconvert_exporter": "python",
   "pygments_lexer": "ipython3",
   "version": "3.8.5"
  }
 },
 "nbformat": 4,
 "nbformat_minor": 4
}
